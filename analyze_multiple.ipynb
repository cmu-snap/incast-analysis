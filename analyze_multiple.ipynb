{
 "cells": [
  {
   "cell_type": "code",
   "execution_count": null,
   "id": "c77eb3ae-a3a4-488b-8ea3-a33e85a359e1",
   "metadata": {
    "tags": []
   },
   "outputs": [],
   "source": [
    "%matplotlib widget\n",
    "\n",
    "import multiprocessing\n",
    "import os\n",
    "from os import path\n",
    "\n",
    "import numpy as np\n",
    "from matplotlib import pyplot as plt\n",
    "\n",
    "import analysis"
   ]
  },
  {
   "cell_type": "code",
   "execution_count": null,
   "id": "95927fc5-4c53-48b9-92bc-7ef665635511",
   "metadata": {},
   "outputs": [],
   "source": [
    "def load_batch(exp_dirs):\n",
    "    print(f\"Loading {len(exp_dirs)} experiments.\")\n",
    "    with multiprocessing.Pool() as pool:\n",
    "        exp_to_data = dict(\n",
    "            zip(exp_dirs, pool.map(analysis.get_all_metrics_for_exp, exp_dirs))\n",
    "        )\n",
    "    print(f\"Loaded {len(exp_to_data)} experiments.\")\n",
    "    return exp_to_data\n",
    "\n",
    "\n",
    "def load_sweep(sweep_dir):\n",
    "    exp_dirs = [\n",
    "        path.join(sweep_dir, dirn) for dirn in os.listdir(sweep_dir) if dirn != \"graphs\"\n",
    "    ]\n",
    "    print(f\"Found {len(exp_dirs)} experiments.\")\n",
    "    return load_batch(exp_dirs)"
   ]
  },
  {
   "cell_type": "code",
   "execution_count": null,
   "id": "c669b3de-c894-4390-908a-7e02d13bed4c",
   "metadata": {
    "tags": []
   },
   "outputs": [],
   "source": [
    "delack_sweep_dir = \"/data_hdd/incast/out/delack_sweep_2ms\"\n",
    "delack_sweep_exp_to_data = load_sweep(delack_sweep_dir)"
   ]
  },
  {
   "cell_type": "code",
   "execution_count": null,
   "id": "c6c22213-6bb3-4bd8-b58a-5b654d11496f",
   "metadata": {},
   "outputs": [],
   "source": [
    "def graph_delack_sweep(exp_to_data, sweep_dir):\n",
    "    graph_dir = path.join(sweep_dir, \"graphs\")\n",
    "    if not path.isdir(graph_dir):\n",
    "        os.makedirs(graph_dir)\n",
    "\n",
    "    def get_x(data):\n",
    "        return data[\"config\"][\"delAckCount\"]\n",
    "\n",
    "    def get_y(data):\n",
    "        return np.mean([end - start for start, end in data[\"burst_times\"][1:]])\n",
    "\n",
    "    points = [(get_x(data), get_y(data)) for exp, data in exp_to_data.items()]\n",
    "    points = sorted(points)\n",
    "    xs, ys = zip(*points)\n",
    "    ys = [y * 1e3 for y in ys]\n",
    "\n",
    "    fig, axes = analysis.get_axes(rows=1, width=5, cols=1)\n",
    "    ax = axes[0]\n",
    "\n",
    "    ax.plot(xs, ys, \"o-\", alpha=0.8)\n",
    "\n",
    "    ax.set_title(f\"Average burst duration vs. DelAckCount\")\n",
    "    ax.set_xlabel(\"DelAckCount\")\n",
    "    ax.set_ylabel(\"Burst duration (ms)\")\n",
    "    ax.set_xlim(left=0)\n",
    "    ax.set_ylim(bottom=0)\n",
    "\n",
    "    plt.tight_layout()\n",
    "    analysis.show(fig)\n",
    "    analysis.save(graph_dir, suffix=\"duration\")\n",
    "\n",
    "\n",
    "def graph_delack_sweep_cdf(exp_to_data, sweep_dir):\n",
    "    graph_dir = path.join(sweep_dir, \"graphs\")\n",
    "    if not path.isdir(graph_dir):\n",
    "        os.makedirs(graph_dir)\n",
    "\n",
    "    label_to_durations = {\n",
    "        data[\"config\"][\"delAckCount\"]: [\n",
    "            (end - start) * 1e3 for start, end in data[\"burst_times\"]\n",
    "        ]\n",
    "        for exp, data in exp_to_data.items()\n",
    "    }\n",
    "\n",
    "    fig, axes = analysis.get_axes(rows=1, width=5, cols=1)\n",
    "    ax = axes[0]\n",
    "\n",
    "    for label, durations in sorted(label_to_durations.items()):\n",
    "        plt.plot(\n",
    "            np.sort(durations),\n",
    "            np.arange(1, len(durations) + 1) / float(len(durations)),\n",
    "            drawstyle=\"steps-post\",\n",
    "            label=label,\n",
    "            alpha=0.8,\n",
    "        )\n",
    "\n",
    "    ideal_ms = list(set(data[\"ideal_sec\"] * 1e3 for data in exp_to_data.values()))\n",
    "    assert len(ideal_ms) == 1\n",
    "    ideal_ms = ideal_ms[0]\n",
    "    # plt.axvline(ideal_ms, color=\"b\", linestyle=\"dashed\", label=\"Ideal\")\n",
    "\n",
    "    ax.set_title(f\"Burst duration CDF for various DelAckCount\")\n",
    "    ax.set_xlabel(\"Burst duration (ms)\")\n",
    "    ax.set_ylabel(\"CDF\")\n",
    "    ax.set_xlim(left=0)\n",
    "    ax.set_ylim(bottom=0, top=1.01)\n",
    "    # ax.legend()\n",
    "\n",
    "    plt.tight_layout()\n",
    "    analysis.show(fig)\n",
    "    analysis.save(graph_dir, suffix=\"duration_cdf\")"
   ]
  },
  {
   "cell_type": "code",
   "execution_count": null,
   "id": "1303b32d-c1a2-4aa6-ba02-6f8deeee9e1c",
   "metadata": {
    "tags": []
   },
   "outputs": [],
   "source": [
    "graph_delack_sweep(delack_sweep_exp_to_data, delack_sweep_dir)\n",
    "graph_delack_sweep_cdf(delack_sweep_exp_to_data, delack_sweep_dir)"
   ]
  },
  {
   "cell_type": "markdown",
   "id": "962808b9-43f4-4608-bec4-1e4fa9106279",
   "metadata": {},
   "source": [
    "Interesting things to plot:\n",
    "- RTT CDF: Randomly sample 1000 RTTs from each configuration\n",
    "- Average non-empty queue depth: Average depth of the incast queue whenever it's not 0 or 1."
   ]
  },
  {
   "cell_type": "code",
   "execution_count": null,
   "id": "9928e749-9f66-4cd6-8439-9aae90acafbf",
   "metadata": {
    "tags": []
   },
   "outputs": [],
   "source": [
    "# Randomly sample 1000 points\n",
    "# Plot CDF"
   ]
  }
 ],
 "metadata": {
  "jupytext": {
   "formats": "ipynb,py:percent"
  },
  "kernelspec": {
   "display_name": "incast-analysis-venv",
   "language": "python",
   "name": "incast-analysis-venv"
  },
  "language_info": {
   "codemirror_mode": {
    "name": "ipython",
    "version": 3
   },
   "file_extension": ".py",
   "mimetype": "text/x-python",
   "name": "python",
   "nbconvert_exporter": "python",
   "pygments_lexer": "ipython3",
   "version": "3.10.6"
  },
  "widgets": {
   "application/vnd.jupyter.widget-state+json": {
    "state": {},
    "version_major": 2,
    "version_minor": 0
   }
  }
 },
 "nbformat": 4,
 "nbformat_minor": 5
}
