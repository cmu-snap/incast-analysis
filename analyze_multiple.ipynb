{
 "cells": [
  {
   "cell_type": "code",
   "execution_count": null,
   "id": "c77eb3ae-a3a4-488b-8ea3-a33e85a359e1",
   "metadata": {
    "editable": true,
    "slideshow": {
     "slide_type": ""
    },
    "tags": []
   },
   "outputs": [],
   "source": [
    "%matplotlib widget\n",
    "\n",
    "import math\n",
    "import multiprocessing\n",
    "import os\n",
    "from os import path\n",
    "import pickle\n",
    "\n",
    "import numpy as np\n",
    "from matplotlib import pyplot as plt\n",
    "\n",
    "import analysis\n",
    "\n",
    "PARALLEL = True\n",
    "COLORS_FRIENDLY_HEX = [\n",
    "    \"#d73027\",  # red\n",
    "    \"#fc8d59\",  # orange\n",
    "    \"#a68f51\",  # gold\n",
    "    \"#91bfdb\",  # light blue\n",
    "    \"#4575b4\",  # dark blue\n",
    "    \"grey\",\n",
    "]\n",
    "CONNSS = [50, 100, 150, 200, 500]\n",
    "DUR_MS = \"15ms\"\n",
    "DESIRED = {\n",
    "    \"incast_queue_across_bursts\",\n",
    "    \"inflight_metrics_across_bursts\",\n",
    "    \"sender_to_inflights_by_burst\",\n",
    "}"
   ]
  },
  {
   "cell_type": "code",
   "execution_count": null,
   "id": "845a4d27-3a3e-44bb-bbdf-d6e56d165349",
   "metadata": {
    "editable": true,
    "slideshow": {
     "slide_type": ""
    },
    "tags": []
   },
   "outputs": [],
   "source": [
    "def load_one(exp_dir):\n",
    "    if not path.exists(exp_dir):\n",
    "        return None\n",
    "\n",
    "    data_flp = path.join(exp_dir, \"data.pickle\")\n",
    "    if path.exists(data_flp):\n",
    "        # if False:\n",
    "        print(f\"Loading from file: {exp_dir}...\")\n",
    "        with open(data_flp, \"rb\") as fil:\n",
    "            try:\n",
    "                data = pickle.load(fil)\n",
    "                print(f\"Succeeded loading from file: {data_flp}\")\n",
    "                return data\n",
    "            except KeyboardInterrupt:\n",
    "                raise\n",
    "            except:\n",
    "                print(f\"Warning: Failed loading from file: {data_flp}\")\n",
    "\n",
    "    try:\n",
    "        data = analysis.get_all_metrics_for_exp(\n",
    "            exp_dir, interp_delta=1e5, desired=DESIRED\n",
    "        )\n",
    "    except KeyboardInterrupt:\n",
    "        raise\n",
    "    except:\n",
    "        print(f\"Error during: {exp_dir}\")\n",
    "        raise\n",
    "\n",
    "    with open(data_flp, \"wb\") as fil:\n",
    "        pickle.dump(data, fil)\n",
    "    return data\n",
    "\n",
    "\n",
    "def load_all(sweep_dir, filt=None):\n",
    "    exp_dirs = [\n",
    "        path.join(sweep_dir, dirn)\n",
    "        for dirn in os.listdir(sweep_dir)\n",
    "        if dirn != \"graphs\" and dirn != \"tmpfs\" and dirn[-7:] != \".pickle\"\n",
    "    ]\n",
    "    exp_dirs = [\n",
    "        exp_dir\n",
    "        for exp_dir in exp_dirs\n",
    "        if filt is None or filt(analysis.get_config_json(exp_dir))\n",
    "    ]\n",
    "\n",
    "    print(f\"Loading {len(exp_dirs)} experiments...\")\n",
    "    if PARALLEL:\n",
    "        with multiprocessing.Pool(processes=35) as pool:\n",
    "            exp_to_data = dict(zip(exp_dirs, pool.map(load_one, exp_dirs)))\n",
    "    else:\n",
    "        exp_to_data = {exp_dir: load_one(exp_dir) for exp_dir in exp_dirs}\n",
    "\n",
    "    exp_to_data = {exp: data for exp, data in exp_to_data.items() if data is not None}\n",
    "\n",
    "    print(f\"Loaded {len(exp_to_data)} experiments.\")\n",
    "    return exp_to_data\n",
    "\n",
    "\n",
    "def graph_simple(\n",
    "    lines, graph_dir, xlabel, ylabel, legend_title, prefix=None, suffix=None, width=10\n",
    "):\n",
    "    fig, axes = analysis.get_axes(width=width)\n",
    "    ax = axes[0]\n",
    "\n",
    "    max_x = 0\n",
    "    max_y = 0\n",
    "    for xs, ys, label in lines:\n",
    "        ax.plot(\n",
    "            xs,\n",
    "            ys,\n",
    "            # COLORS_FRIENDLY_HEX[i],\n",
    "            label=label,\n",
    "            linewidth=analysis.LINESIZE,\n",
    "            alpha=0.7,\n",
    "        )\n",
    "        max_x = max(max_x, xs[-1])\n",
    "        max_y = max(max_y, *ys)\n",
    "\n",
    "    ax.set_xlabel(xlabel, fontsize=analysis.FONTSIZE)\n",
    "    ax.set_ylabel(ylabel, fontsize=analysis.FONTSIZE)\n",
    "    ax.set_xlim(left=-0.01 * max_x, right=1.01 * max_x)\n",
    "    ax.set_ylim(bottom=-0.01 * max_y, top=1.1 * max_y)\n",
    "    ax.tick_params(axis=\"x\", labelsize=analysis.FONTSIZE)\n",
    "    ax.tick_params(axis=\"y\", labelsize=analysis.FONTSIZE)\n",
    "    ax.legend(\n",
    "        fontsize=analysis.FONTSIZE,\n",
    "        bbox_to_anchor=(1.02, 0.5),\n",
    "        loc=\"center left\",\n",
    "        title=legend_title,\n",
    "        title_fontsize=analysis.FONTSIZE,\n",
    "        ncols=math.ceil(len(lines) / 7),\n",
    "    )\n",
    "\n",
    "    analysis.show(fig)\n",
    "    analysis.save(graph_dir, prefix, suffix)\n",
    "\n",
    "\n",
    "def graph_avg_queue_length(exp_to_data, dur_ms, graph_dir):\n",
    "    connss = sorted(\n",
    "        list({data[\"config\"][\"numBurstSenders\"] for data in exp_to_data.values()})\n",
    "    )\n",
    "    rwnds = [None] + sorted(\n",
    "        list(\n",
    "            {\n",
    "                data[\"config\"][\"staticRwndBytes\"]\n",
    "                for data in exp_to_data.values()\n",
    "                if data[\"config\"][\"rwndStrategy\"] == \"static\"\n",
    "            }\n",
    "        )\n",
    "    )\n",
    "\n",
    "    lines = []\n",
    "    for rwnd in rwnds:\n",
    "        xs = []\n",
    "        ys = []\n",
    "        for conns in connss:\n",
    "            data = [\n",
    "                data\n",
    "                for data in exp_to_data.values()\n",
    "                if (\n",
    "                    (data[\"config\"][\"numBurstSenders\"] == conns)\n",
    "                    and (\n",
    "                        # No RWND\n",
    "                        (rwnd is None and data[\"config\"][\"rwndStrategy\"] == \"none\")\n",
    "                        or\n",
    "                        # RWND\n",
    "                        (\n",
    "                            rwnd is not None and \n",
    "                            data[\"config\"][\"rwndStrategy\"] == \"static\"\n",
    "                            and data[\"config\"][\"staticRwndBytes\"] == rwnd\n",
    "                        )\n",
    "                    )\n",
    "                )\n",
    "            ]\n",
    "            # if len(data) == 0:\n",
    "            #     print(f\"looking for RWND {rwnd} and {conns} flows\")\n",
    "            #     print(\"\\n\".join(sorted(exp_to_data.keys())))\n",
    "            assert len(data) == 1, f\"Expected 1 but found: {len(data)}\"\n",
    "            data = data[0]\n",
    "            xs.append(data[\"config\"][\"numBurstSenders\"])\n",
    "\n",
    "            _, avg_lengths, _, _, _, _, _ = data[\"incast_queue_across_bursts\"]\n",
    "            ys.append(np.mean(avg_lengths))\n",
    "        lines.append((xs, ys, \"None\" if rwnd is None else round(rwnd / 1024)))\n",
    "\n",
    "    graph_simple(\n",
    "        lines,\n",
    "        graph_dir,\n",
    "        \"flows\",\n",
    "        \"average queue length\\n(packets)\",\n",
    "        \"RWND Clamp (KB)\",\n",
    "        f\"avg_queue_length_{dur_ms}ms\",\n",
    "    )\n",
    "\n",
    "\n",
    "def graph_avg_tput(exp_to_data, dur_ms, graph_dir):\n",
    "    connss = sorted(\n",
    "        list({data[\"config\"][\"numBurstSenders\"] for data in exp_to_data.values()})\n",
    "    )\n",
    "    rwnds = [None] + sorted(\n",
    "        list(\n",
    "            {\n",
    "                data[\"config\"][\"staticRwndBytes\"]\n",
    "                for data in exp_to_data.values()\n",
    "                if data[\"config\"][\"rwndStrategy\"] == \"static\"\n",
    "            }\n",
    "        )\n",
    "    )\n",
    "\n",
    "    lines = []\n",
    "    for rwnd in rwnds:\n",
    "        xs = []\n",
    "        ys = []\n",
    "        for conns in connss:\n",
    "            data = [\n",
    "                data\n",
    "                for data in exp_to_data.values()\n",
    "                if (\n",
    "                    (data[\"config\"][\"numBurstSenders\"] == conns)\n",
    "                    and (\n",
    "                        # No RWND\n",
    "                        (rwnd is None and data[\"config\"][\"rwndStrategy\"] == \"none\")\n",
    "                        or\n",
    "                        # RWND\n",
    "                        (\n",
    "                            rwnd is not None and \n",
    "                            data[\"config\"][\"rwndStrategy\"] == \"static\"\n",
    "                            and data[\"config\"][\"staticRwndBytes\"] == rwnd\n",
    "                        )\n",
    "                    )\n",
    "                )\n",
    "            ]\n",
    "            assert len(data) == 1\n",
    "            data = data[0]\n",
    "            xs.append(data[\"config\"][\"numBurstSenders\"])\n",
    "            ys.append(np.mean(data[\"avg_tput_by_burst_bps\"][1:]) / 1e9)\n",
    "        lines.append((xs, ys, \"None\" if rwnd is None else round(rwnd / 1024)))\n",
    "\n",
    "    graph_simple(\n",
    "        lines,\n",
    "        graph_dir,\n",
    "        \"flows\",\n",
    "        \"average throughput\\n(Gbps)\",\n",
    "        \"RWND Clamp (KB)\",\n",
    "        f\"avg_tput_{dur_ms}ms\",\n",
    "    )\n",
    "\n",
    "\n",
    "# Graph queue over time for various RWND thresholds.\n",
    "def graph_queue(\n",
    "    lines,\n",
    "    dur_ms,\n",
    "    marking_threshold_packets,\n",
    "    capacity_packets,\n",
    "    graph_dir,\n",
    "    legend_title=None,\n",
    "    prefix=None,\n",
    "    suffix=None,\n",
    "    ncols=3,\n",
    "):\n",
    "    fig, axes = analysis.get_axes()\n",
    "    ax = axes[0]\n",
    "\n",
    "    # Plot a line for each RWND clamp.\n",
    "    max_x = 0\n",
    "    max_y = 0\n",
    "    for xs, ys, label in lines:\n",
    "        # xs = xs - xs[0]\n",
    "        xs = xs * 1e3\n",
    "        ax.plot(\n",
    "            xs,\n",
    "            ys,\n",
    "            drawstyle=\"steps-post\",\n",
    "            label=label,\n",
    "            linewidth=analysis.LINESIZE,\n",
    "            alpha=0.7,\n",
    "        )\n",
    "        max_x = max(max_x, xs[-1])\n",
    "        max_y = max(max_y, *ys)\n",
    "\n",
    "    # Draw a line at the marking threshold\n",
    "    ax.plot(\n",
    "        [0, max_x],\n",
    "        [marking_threshold_packets] * 2,\n",
    "        label=\"ECN\\nthreshold\" if dur_ms == \"2ms\" else \"ECN threshold\",\n",
    "        color=\"orange\",\n",
    "        linestyle=\"dashed\",\n",
    "        linewidth=analysis.LINESIZE,\n",
    "        alpha=0.7,\n",
    "    )\n",
    "    # Draw a line at the queue capacity\n",
    "    if max_y > capacity_packets / 2:\n",
    "        # Draw a line at the queue capacity\n",
    "        ax.plot(\n",
    "            [0, max_x],\n",
    "            [capacity_packets] * 2,\n",
    "            label=\"queue capacity\",\n",
    "            color=\"red\",\n",
    "            linestyle=\"dotted\",\n",
    "            linewidth=analysis.LINESIZE,\n",
    "            alpha=0.7,\n",
    "        )\n",
    "        max_y = capacity_packets\n",
    "    elif len(lines) == 1:\n",
    "        max_y = capacity_packets / 2\n",
    "\n",
    "    ax.set_xlabel(\"time (ms)\", fontsize=analysis.FONTSIZE)\n",
    "    ax.set_ylabel(\n",
    "        \"packets\" if len(lines) == 1 else \"queue length\\n(packets)\",\n",
    "        fontsize=analysis.FONTSIZE,\n",
    "    )\n",
    "    ax.tick_params(axis=\"x\", labelsize=analysis.FONTSIZE)\n",
    "    ax.tick_params(axis=\"y\", labelsize=analysis.FONTSIZE)\n",
    "    ax.set_xlim(left=-0.01 * max_x, right=1.01 * max_x)\n",
    "    ax.set_ylim(bottom=-0.01 * max_y, top=1.1 * max_y)\n",
    "    if dur_ms == \"2ms\":\n",
    "        ax.legend(\n",
    "            fontsize=analysis.FONTSIZE,\n",
    "            ncols=ncols,\n",
    "            **(\n",
    "                {}\n",
    "                if legend_title is None\n",
    "                else {\"title\": legend_title, \"title_fontsize\": analysis.FONTSIZE}\n",
    "            ),\n",
    "            bbox_to_anchor=(1.02, 0.5),\n",
    "            loc=\"center left\",\n",
    "        )\n",
    "    else:\n",
    "        ax.legend(\n",
    "            fontsize=analysis.FONTSIZE,\n",
    "            loc=\"center right\" if max_y > capacity_packets / 2 else \"upper right\",\n",
    "            ncols=ncols,\n",
    "            **(\n",
    "                {}\n",
    "                if legend_title is None\n",
    "                else {\"title\": legend_title, \"title_fontsize\": analysis.FONTSIZE}\n",
    "            ),\n",
    "        )\n",
    "\n",
    "    plt.tight_layout()\n",
    "    analysis.show(fig)\n",
    "    analysis.save(graph_dir, prefix, suffix)\n",
    "\n",
    "\n",
    "# Graph FCT distribution for various RWND thresholds\n",
    "def graph_fct(lines, graph_dir, dur_ms, fln):\n",
    "    fig, axes = analysis.get_axes(width=6)  # if len(lines) > 1 else 3)\n",
    "    ax = axes[0]\n",
    "\n",
    "    max_x = 0\n",
    "    for fcts, label in lines:\n",
    "        max_x = max(max_x, *fcts)\n",
    "        count, bins_count = np.histogram(fcts, bins=len(fcts))\n",
    "        ax.plot(\n",
    "            bins_count[1:],\n",
    "            np.cumsum(count / sum(count)),\n",
    "            label=label,\n",
    "            linewidth=analysis.LINESIZE,\n",
    "            alpha=0.7,\n",
    "        )\n",
    "\n",
    "    ax.set_xlabel(\"flow duration (ms)\", fontsize=analysis.FONTSIZE)\n",
    "    ax.set_ylabel(\"CDF\", fontsize=analysis.FONTSIZE)\n",
    "    ax.tick_params(axis=\"x\", labelsize=analysis.FONTSIZE)\n",
    "    ax.tick_params(axis=\"y\", labelsize=analysis.FONTSIZE)\n",
    "    ax.set_xlim(left=-0.01 * max_x, right=1.01 * max_x)\n",
    "    ax.set_ylim(bottom=-0.01, top=1.01)\n",
    "    if len(lines) > 1:\n",
    "        ax.legend(\n",
    "            fontsize=analysis.FONTSIZE,\n",
    "            # bbox_to_anchor=(1.02, 0.5),\n",
    "            # loc=\"center left\",\n",
    "            loc=\"upper left\",\n",
    "            # ncols=ncols,\n",
    "            title=\"RWND clamp (KB)\",\n",
    "            title_fontsize=analysis.FONTSIZE,\n",
    "        )\n",
    "\n",
    "    analysis.show(fig)\n",
    "    analysis.save(graph_dir, f\"{fln}_{dur_ms}ms\")\n",
    "\n",
    "\n",
    "# Graph p95 in-flight data over time for various RWND thresholds\n",
    "def graph_p95_bytes_in_flight(exp_to_data, dur_ms, conns, graph_dir):\n",
    "    fig, axes = analysis.get_axes()\n",
    "    ax = axes[0]\n",
    "\n",
    "    # Plot a line for No RWND tuning\n",
    "    none = [\n",
    "        data\n",
    "        for data in exp_to_data.values()\n",
    "        if (\n",
    "            data[\"config\"][\"rwndStrategy\"] == \"none\"\n",
    "            and data[\"config\"][\"numBurstSenders\"] == conns\n",
    "        )\n",
    "    ]\n",
    "    assert len(none) == 1\n",
    "\n",
    "    # Plot a line for each RWND clamp.\n",
    "    max_x = 0\n",
    "    max_y = 0\n",
    "    for data in (\n",
    "        list(\n",
    "            reversed(\n",
    "                sorted(\n",
    "                    (\n",
    "                        data\n",
    "                        for data in exp_to_data.values()\n",
    "                        if (\n",
    "                            data[\"config\"][\"rwndStrategy\"] == \"static\"\n",
    "                            and data[\"config\"][\"staticRwndBytes\"] < 11000\n",
    "                            and data[\"config\"][\"numBurstSenders\"] == conns\n",
    "                        )\n",
    "                    ),\n",
    "                    key=lambda p: p[\"config\"][\"staticRwndBytes\"],\n",
    "                )\n",
    "            )\n",
    "        )\n",
    "        + none\n",
    "    ):\n",
    "        # Skip odd RWND clamps\n",
    "        if (\n",
    "            data[\"config\"][\"rwndStrategy\"] == \"static\"\n",
    "            and round(data[\"config\"][\"staticRwndBytes\"] / 1024) % 2 == 1\n",
    "        ):\n",
    "            continue\n",
    "\n",
    "        # Last element in the tuple is the total in-flight data\n",
    "        xs, _, _, _, _, percentiles, _ = data[\"inflight_metrics_across_bursts\"]\n",
    "        # xs = np.asarray(xs) - xs[0]\n",
    "        xs = xs * 1e3\n",
    "        # Extract p95\n",
    "        ys = percentiles[4]\n",
    "        ys = ys / 1e3\n",
    "        xs = xs[: len(ys)]\n",
    "        ys = ys[: len(xs)]\n",
    "        ax.plot(\n",
    "            xs,\n",
    "            ys,\n",
    "            # COLORS_FRIENDLY_HEX[i],\n",
    "            label=(\n",
    "                \"None\"\n",
    "                if data[\"config\"][\"rwndStrategy\"] == \"none\"\n",
    "                else round(data[\"config\"][\"staticRwndBytes\"] / 1024)\n",
    "            ),\n",
    "            linewidth=analysis.LINESIZE,\n",
    "            alpha=0.7,\n",
    "        )\n",
    "        max_x = max(max_x, xs[-1])\n",
    "        max_y = max(max_y, *ys)\n",
    "\n",
    "    ax.set_xlabel(\"time (ms)\", fontsize=analysis.FONTSIZE)\n",
    "    ax.set_ylabel(\"per-flow in-flight data\\n(p95, KB)\", fontsize=analysis.FONTSIZE)\n",
    "    ax.set_xlim(left=-0.01 * max_x, right=1.01 * max_x)\n",
    "    ax.set_ylim(bottom=-0.01 * max_y, top=1.1 * max_y)\n",
    "    ax.tick_params(axis=\"x\", labelsize=analysis.FONTSIZE)\n",
    "    ax.tick_params(axis=\"y\", labelsize=analysis.FONTSIZE)\n",
    "    ax.legend(\n",
    "        fontsize=analysis.FONTSIZE,\n",
    "        # bbox_to_anchor=(1.02, 0.5),\n",
    "        # loc=\"center left\",\n",
    "        loc=\"upper center\",\n",
    "        title=\"RWND clamp (KB)\",\n",
    "        title_fontsize=analysis.FONTSIZE,\n",
    "        ncols=3,\n",
    "    )\n",
    "\n",
    "    plt.tight_layout()\n",
    "    analysis.show(fig)\n",
    "    analysis.save(\n",
    "        graph_dir,\n",
    "        suffix=f\"staticRwnd_p95_bytes_in_flight_{dur_ms}ms_{none[0]['config']['numBurstSenders']}flows\",\n",
    "    )\n",
    "\n",
    "\n",
    "# Graph total in-flight data over time for various RWND thresholds\n",
    "def graph_total_inflight(exp_to_data, dur_ms, conns, graph_dir):\n",
    "    fig, axes = analysis.get_axes()\n",
    "    ax = axes[0]\n",
    "\n",
    "    # Plot a line for No RWND tuning\n",
    "    none = [\n",
    "        data\n",
    "        for data in exp_to_data.values()\n",
    "        if (\n",
    "            data[\"config\"][\"rwndStrategy\"] == \"none\"\n",
    "            and data[\"config\"][\"numBurstSenders\"] == conns\n",
    "        )\n",
    "    ]\n",
    "    assert len(none) == 1\n",
    "\n",
    "    # Plot a line for each RWND clamp.\n",
    "    max_x = 0\n",
    "    max_y = 0\n",
    "    for data in (\n",
    "        list(\n",
    "            reversed(\n",
    "                sorted(\n",
    "                    (\n",
    "                        data\n",
    "                        for data in exp_to_data.values()\n",
    "                        if (\n",
    "                            data[\"config\"][\"rwndStrategy\"] == \"static\"\n",
    "                            and data[\"config\"][\"staticRwndBytes\"] < 11000\n",
    "                            and data[\"config\"][\"numBurstSenders\"] == conns\n",
    "                        )\n",
    "                    ),\n",
    "                    key=lambda p: p[\"config\"][\"staticRwndBytes\"],\n",
    "                )\n",
    "            )\n",
    "        )\n",
    "        + none\n",
    "    ):\n",
    "        # Skip odd RWND clamps\n",
    "        if (\n",
    "            data[\"config\"][\"rwndStrategy\"] == \"static\"\n",
    "            and round(data[\"config\"][\"staticRwndBytes\"] / 1024) % 2 == 1\n",
    "        ):\n",
    "            continue\n",
    "\n",
    "        bdp_bytes = (\n",
    "            data[\"config\"][\"smallLinkBandwidthMbps\"]\n",
    "            * 1e6\n",
    "            / 8\n",
    "            * 6\n",
    "            * data[\"config\"][\"delayPerLinkUs\"]\n",
    "            / 1e6\n",
    "        )\n",
    "        # print(bdp_bytes)\n",
    "        # Last element in the tuple is the total inflight\n",
    "        xs, _, _, _, _, _, total_ys = data[\"inflight_metrics_across_bursts\"]\n",
    "        # print(total_ys[:10])\n",
    "        # xs = np.array(xs) - xs[0]\n",
    "        xs = xs * 1e3\n",
    "        total_ys = total_ys / bdp_bytes\n",
    "        ax.plot(\n",
    "            xs,\n",
    "            total_ys,\n",
    "            # COLORS_FRIENDLY_HEX[i],\n",
    "            label=(\n",
    "                \"None\"\n",
    "                if data[\"config\"][\"rwndStrategy\"] == \"none\"\n",
    "                else round(data[\"config\"][\"staticRwndBytes\"] / 1024)\n",
    "            ),\n",
    "            linewidth=analysis.LINESIZE,\n",
    "            alpha=0.7,\n",
    "        )\n",
    "        max_x = max(max_x, xs[-1])\n",
    "        max_y = max(max_y, *total_ys)\n",
    "\n",
    "    ax.set_xlabel(\"time (ms)\", fontsize=analysis.FONTSIZE)\n",
    "    ax.set_ylabel(\"total in-flight data\\n(x BDP)\", fontsize=analysis.FONTSIZE)\n",
    "    ax.set_xlim(left=-0.01 * max_x, right=1.01 * max_x)\n",
    "    ax.set_ylim(bottom=-0.01 * max_y, top=1.1 * max_y)\n",
    "    ax.tick_params(axis=\"x\", labelsize=analysis.FONTSIZE)\n",
    "    ax.tick_params(axis=\"y\", labelsize=analysis.FONTSIZE)\n",
    "    ax.legend(\n",
    "        fontsize=analysis.FONTSIZE,\n",
    "        # bbox_to_anchor=(1.02, 0.5),\n",
    "        # loc=\"center left\",\n",
    "        loc=\"upper right\",\n",
    "        title=\"RWND clamp (KB)\",\n",
    "        title_fontsize=analysis.FONTSIZE,\n",
    "        ncols=3,\n",
    "    )\n",
    "\n",
    "    plt.tight_layout()\n",
    "    analysis.show(fig)\n",
    "    analysis.save(\n",
    "        graph_dir,\n",
    "        suffix=f\"staticRwnd_total_in_flight_data_{dur_ms}ms_{none[0]['config']['numBurstSenders']}flows\",\n",
    "    )\n",
    "\n",
    "\n",
    "# Graph all flows in flight data over time for a specific RWND clamp\n",
    "def graph_sender_inflight(exp_to_data, dur_ms, graph_dir, clamp):\n",
    "    fig, axes = analysis.get_axes()\n",
    "    ax = axes[0]\n",
    "\n",
    "    options = [\n",
    "        data\n",
    "        for data in exp_to_data.values()\n",
    "        if data[\"config\"][\"rwndStrategy\"] == \"static\"\n",
    "        and data[\"config\"][\"staticRwndBytes\"] == clamp\n",
    "    ]\n",
    "    assert len(options) == 1\n",
    "    data = options[0]\n",
    "\n",
    "    max_x = 0\n",
    "    max_y = 0\n",
    "    for bursts in data[\"sender_to_inflights_by_burst\"].values():\n",
    "        burst = bursts[-1]\n",
    "        xs, ys = zip(*burst)\n",
    "        # xs = np.array(xs) - xs[0]\n",
    "        xs = xs * 1e3\n",
    "        ax.plot(\n",
    "            xs,\n",
    "            ys,\n",
    "            linewidth=analysis.LINESIZE,\n",
    "            alpha=0.7,\n",
    "        )\n",
    "        max_x = max(max_x, xs[-1])\n",
    "        max_y = max(max_y, *ys)\n",
    "\n",
    "    ax.set_xlabel(\"time (ms)\", fontsize=analysis.FONTSIZE)\n",
    "    ax.set_ylabel(\"in-flight data (bytes)\", fontsize=analysis.FONTSIZE)\n",
    "    # ax.set_xlim(left=0)\n",
    "    ax.set_ylim(bottom=-1, top=max_y * 1.1)\n",
    "    ax.tick_params(axis=\"x\", labelsize=analysis.FONTSIZE)\n",
    "    ax.tick_params(axis=\"y\", labelsize=analysis.FONTSIZE)\n",
    "\n",
    "    plt.tight_layout()\n",
    "    analysis.show(fig)\n",
    "    analysis.save(\n",
    "        graph_dir,\n",
    "        suffix=f\"in_flight_data_{dur_ms}ms_{data['config']['numBurstSenders']}flows_{clamp}KB\",\n",
    "    )"
   ]
  },
  {
   "cell_type": "code",
   "execution_count": null,
   "id": "8423aae9-a16d-467f-854b-430e831882f4",
   "metadata": {},
   "outputs": [],
   "source": [
    "def generate_graphs_for_duration(exp_to_data, dur_ms, graph_dir):\n",
    "    ecn_threshs_packets = {\n",
    "        data[\"config\"][\"smallQueueMinThresholdPackets\"] for data in exp_to_data.values()\n",
    "    }\n",
    "    assert len(ecn_threshs_packets) == 1\n",
    "    ecn_thresh_packets = ecn_threshs_packets.pop()\n",
    "    queue_capacities_packets = {\n",
    "        data[\"config\"][\"smallQueueSizePackets\"] for data in exp_to_data.values()\n",
    "    }\n",
    "    assert len(queue_capacities_packets) == 1\n",
    "    queue_capacity_packets = queue_capacities_packets.pop()\n",
    "\n",
    "    # Average queue length vs. number of flows; Line for each RWND clamp ###########################\n",
    "\n",
    "    print(\"Average queue length vs. RWND clamp:\")\n",
    "    graph_avg_queue_length(exp_to_data, dur_ms, graph_dir)\n",
    "\n",
    "    # Average throughput vs. number of flows; Line for each RWND clamp ############################\n",
    "\n",
    "    graph_avg_tput(exp_to_data, dur_ms, graph_dir)\n",
    "\n",
    "    # Queue length - Special cases #################################################################\n",
    "\n",
    "    #### For 2ms, plot one graph with all flow counts\n",
    "    if dur_ms == 2:\n",
    "        datas = [\n",
    "            data\n",
    "            for data in exp_to_data.values()\n",
    "            if data[\"config\"][\"rwndStrategy\"] == \"none\"\n",
    "        ]\n",
    "\n",
    "        lines = []\n",
    "        for data in sorted(datas, key=lambda d: d[\"config\"][\"numBurstSenders\"]):\n",
    "            xs, avg_ys, _, _, _, _, _ = data[\"incast_queue_across_bursts\"]\n",
    "            lines.append((xs, avg_ys, data[\"config\"][\"numBurstSenders\"]))\n",
    "\n",
    "        graph_queue(\n",
    "            lines,\n",
    "            dur_ms,\n",
    "            ecn_thresh_packets,\n",
    "            queue_capacity_packets,\n",
    "            graph_dir,\n",
    "            prefix=f\"noRwnd_{dur_ms}ms_allFlowCounts\",\n",
    "            suffix=\"incast_queue\",\n",
    "            ncols=1,\n",
    "            legend_title=\"Flow count\",\n",
    "        )\n",
    "\n",
    "    for conns in CONNSS:\n",
    "        print(conns)\n",
    "\n",
    "        # P95 per-flow in-flight data across bursts ###############################################\n",
    "\n",
    "        graph_p95_bytes_in_flight(exp_to_data, dur_ms, conns, graph_dir)\n",
    "\n",
    "        # Total in-flight data across bursts ######################################################\n",
    "\n",
    "        graph_total_inflight(exp_to_data, dur_ms, conns, graph_dir)\n",
    "\n",
    "        # FCT #####################################################################################\n",
    "\n",
    "        #### FCT - No RWND tuning\n",
    "\n",
    "        none = [\n",
    "            data\n",
    "            for data in exp_to_data.values()\n",
    "            if (\n",
    "                data[\"config\"][\"numBurstSenders\"] == conns\n",
    "                and data[\"config\"][\"rwndStrategy\"] == \"none\"\n",
    "            )\n",
    "        ]\n",
    "        assert len(none) == 1\n",
    "        none = none[0]\n",
    "\n",
    "        fcts = []\n",
    "        # Merge all samples across bursts\n",
    "        for burst_idx in range(1, none[\"config\"][\"numBursts\"]):\n",
    "            times = [\n",
    "                flow_times_by_burst[burst_idx]\n",
    "                for flow_times_by_burst in none[\n",
    "                    \"sender_to_flow_times_by_burst\"\n",
    "                ].values()\n",
    "            ]\n",
    "            fcts.extend([(end - start) * 1e3 for start, _, end, _ in times])\n",
    "        # (FCTs, label)\n",
    "        lines = [(fcts, None)]\n",
    "\n",
    "        graph_fct(\n",
    "            lines,\n",
    "            graph_dir,\n",
    "            dur_ms,\n",
    "            f\"noRwnd_{dur_ms}ms_{none['config']['numBurstSenders']}flows_fct\",\n",
    "        )\n",
    "\n",
    "        #### FCT - Line for each RWND clamp\n",
    "\n",
    "        datas = [\n",
    "            data\n",
    "            for data in exp_to_data.values()\n",
    "            if data[\"config\"][\"numBurstSenders\"] == conns\n",
    "        ]\n",
    "        # Add a line for No RWND tuning\n",
    "        none = [data for data in datas if data[\"config\"][\"rwndStrategy\"] == \"none\"]\n",
    "        assert len(none) == 1\n",
    "\n",
    "        # Add a line for each RWND clamp.\n",
    "        lines = []\n",
    "        for data in (\n",
    "            list(\n",
    "                reversed(\n",
    "                    sorted(\n",
    "                        (\n",
    "                            data\n",
    "                            for data in datas\n",
    "                            if (\n",
    "                                data[\"config\"][\"rwndStrategy\"] == \"static\"\n",
    "                                and data[\"config\"][\"staticRwndBytes\"] < 11000\n",
    "                            )\n",
    "                        ),\n",
    "                        key=lambda p: p[\"config\"][\"staticRwndBytes\"],\n",
    "                    )\n",
    "                )\n",
    "            )\n",
    "            + none\n",
    "        ):\n",
    "            # Skip odd RWND clamps\n",
    "            if (\n",
    "                data[\"config\"][\"rwndStrategy\"] == \"static\"\n",
    "                and round(data[\"config\"][\"staticRwndBytes\"] / 1024) % 2 == 1\n",
    "            ):\n",
    "                continue\n",
    "\n",
    "            fcts = []\n",
    "            for burst_idx in range(1, data[\"config\"][\"numBursts\"]):\n",
    "                times = [\n",
    "                    flow_times_by_burst[burst_idx]\n",
    "                    for flow_times_by_burst in data[\n",
    "                        \"sender_to_flow_times_by_burst\"\n",
    "                    ].values()\n",
    "                ]\n",
    "                fcts.extend([(end - start) * 1e3 for start, _, end, _ in times])\n",
    "            lines.append(\n",
    "                (\n",
    "                    fcts,\n",
    "                    # Label\n",
    "                    (\n",
    "                        \"None\"\n",
    "                        if data[\"config\"][\"rwndStrategy\"] == \"none\"\n",
    "                        else round(data[\"config\"][\"staticRwndBytes\"] / 1024)\n",
    "                    ),\n",
    "                )\n",
    "            )\n",
    "\n",
    "        graph_fct(lines, graph_dir, dur_ms, f\"staticRwnd_{dur_ms}ms_{conns}flows_fct\")\n",
    "\n",
    "        # Queue length #############################################################################\n",
    "\n",
    "        #### Queue length - No RWND tuning\n",
    "\n",
    "        datas = [\n",
    "            data\n",
    "            for data in exp_to_data.values()\n",
    "            if data[\"config\"][\"numBurstSenders\"] == conns\n",
    "        ]\n",
    "        # Add a line for No RWND tuning\n",
    "        none = [data for data in datas if data[\"config\"][\"rwndStrategy\"] == \"none\"]\n",
    "        assert len(none) == 1\n",
    "        none = none[0]\n",
    "\n",
    "        xs, avg_ys, _, _, _, _, _ = none[\"incast_queue_across_bursts\"]\n",
    "        xs = np.asarray(xs)\n",
    "        lines = [(xs, avg_ys, \"queue length\")]\n",
    "\n",
    "        graph_queue(\n",
    "            lines,\n",
    "            dur_ms,\n",
    "            ecn_thresh_packets,\n",
    "            queue_capacity_packets,\n",
    "            graph_dir,\n",
    "            prefix=f\"noRwnd_{dur_ms}ms_{conns}flows\",\n",
    "            suffix=\"incast_queue\",\n",
    "            ncols=2,\n",
    "        )\n",
    "\n",
    "        #### Queue length - Line for each RWND clamp\n",
    "\n",
    "        datas = [\n",
    "            data\n",
    "            for data in exp_to_data.values()\n",
    "            if data[\"config\"][\"numBurstSenders\"] == conns\n",
    "        ]\n",
    "\n",
    "        # Add a line for No RWND tuning\n",
    "        none = [data for data in datas if data[\"config\"][\"rwndStrategy\"] == \"none\"]\n",
    "        assert len(none) == 1\n",
    "\n",
    "        # Add a line for each RWND clamp.\n",
    "        lines = []\n",
    "        for data in (\n",
    "            list(\n",
    "                reversed(\n",
    "                    sorted(\n",
    "                        (\n",
    "                            data\n",
    "                            for data in datas\n",
    "                            if (\n",
    "                                data[\"config\"][\"rwndStrategy\"] == \"static\"\n",
    "                                and data[\"config\"][\"staticRwndBytes\"] < 11000\n",
    "                            )\n",
    "                        ),\n",
    "                        key=lambda p: p[\"config\"][\"staticRwndBytes\"],\n",
    "                    )\n",
    "                )\n",
    "            )\n",
    "            + none\n",
    "        ):\n",
    "            # Skip odd RWND clamps\n",
    "            if (\n",
    "                data[\"config\"][\"rwndStrategy\"] == \"static\"\n",
    "                and round(data[\"config\"][\"staticRwndBytes\"] / 1024) % 2 == 1\n",
    "            ):\n",
    "                continue\n",
    "            xs, avg_ys, _, _, _, _, _ = data[\"incast_queue_across_bursts\"]\n",
    "            xs = np.asarray(xs)\n",
    "            lines.append(\n",
    "                (\n",
    "                    xs,\n",
    "                    avg_ys,\n",
    "                    \"None\"\n",
    "                    if data[\"config\"][\"rwndStrategy\"] == \"none\"\n",
    "                    else round(data[\"config\"][\"staticRwndBytes\"] / 1024),\n",
    "                )\n",
    "            )\n",
    "\n",
    "        graph_queue(\n",
    "            lines,\n",
    "            dur_ms,\n",
    "            ecn_thresh_packets,\n",
    "            queue_capacity_packets,\n",
    "            graph_dir,\n",
    "            legend_title=\"RWND clamp (KB)\",\n",
    "            prefix=f\"staticRwnd_{dur_ms}ms_{conns}flows\",\n",
    "            suffix=\"incast_queue\",\n",
    "            ncols=2 if dur_ms == 2 else 3,\n",
    "        )\n",
    "\n",
    "    # for CONNS in CONNSS:\n",
    "    #     print(CONNS)\n",
    "    #     graph_sender_inflight(\n",
    "    #         {\n",
    "    #             exp: data\n",
    "    #             for exp, data in exp_to_data.items()\n",
    "    #             if data[\"config\"][\"numBurstSenders\"] == CONNS\n",
    "    #         },\n",
    "    #         SWEEP_DIR,\n",
    "    #         2048\n",
    "    #     )"
   ]
  },
  {
   "cell_type": "code",
   "execution_count": null,
   "id": "f1b15f39-ebbf-4510-b665-5c381b5d731a",
   "metadata": {},
   "outputs": [],
   "source": [
    "def load_duration(sweep_dir, dur_ms, reload):\n",
    "    save_flp = path.join(sweep_dir, f\"{dur_ms}.pickle\")\n",
    "    if reload or not path.exists(save_flp):\n",
    "        exp_to_data = load_all(\n",
    "            sweep_dir,\n",
    "            filt=lambda c: (\n",
    "                f\"{dur_ms}ms\" in c[\"outputDirectory\"]\n",
    "                and c[\"numBurstSenders\"] <= 1000\n",
    "                # and c[\"numBurstSenders\"] < 1000\n",
    "                and c[\"smallLinkBandwidthMbps\"] == 10000\n",
    "                and c[\"smallQueueMinThresholdPackets\"] == 65\n",
    "                # and c[\"smallQueueSizePackets\"] == 667\n",
    "                and c[\"smallQueueSizePackets\"] == 1334\n",
    "                and c[\"rwndStrategy\"] in [\"none\", \"static\"]\n",
    "                # and c[\"numBurstSenders\"] in CONNSS\n",
    "            ),\n",
    "        )\n",
    "        print(\"Saving:\", save_flp)\n",
    "        with open(save_flp, \"wb\") as fil:\n",
    "            pickle.dump(exp_to_data, fil)\n",
    "        print(\"Saved.\")\n",
    "    else:\n",
    "        print(\"Loading:\", save_flp)\n",
    "        with open(save_flp, \"rb\") as fil:\n",
    "            exp_to_data = pickle.load(fil)\n",
    "        print(\"Loaded.\")\n",
    "    return exp_to_data"
   ]
  },
  {
   "cell_type": "code",
   "execution_count": null,
   "id": "10e0a83d-3849-46a8-9a8f-eb94b4e91ac5",
   "metadata": {},
   "outputs": [],
   "source": [
    "SWEEP_DIR = \"/data_ssd/ccanel/incast/sweep/background-senders\"\n",
    "GRAPH_DIR = path.join(SWEEP_DIR, \"graphs\")\n",
    "if not path.isdir(GRAPH_DIR):\n",
    "    os.makedirs(GRAPH_DIR)"
   ]
  },
  {
   "cell_type": "code",
   "execution_count": null,
   "id": "9c625021-c30c-4790-8e83-565b4caa94ec",
   "metadata": {},
   "outputs": [],
   "source": [
    "EXP_TO_DATA_2MS = load_duration(SWEEP_DIR, 2, False)\n",
    "generate_graphs_for_duration(EXP_TO_DATA_2MS, 2, GRAPH_DIR)"
   ]
  },
  {
   "cell_type": "code",
   "execution_count": null,
   "id": "54a76669-dea9-45d8-9e38-1c66c45b2535",
   "metadata": {},
   "outputs": [],
   "source": [
    "EXP_TO_DATA_15MS = load_duration(SWEEP_DIR, 15, False)\n",
    "generate_graphs_for_duration(EXP_TO_DATA_15MS, 15, GRAPH_DIR)"
   ]
  },
  {
   "cell_type": "code",
   "execution_count": null,
   "id": "c6c22213-6bb3-4bd8-b58a-5b654d11496f",
   "metadata": {},
   "outputs": [],
   "source": [
    "# delack_sweep_dir = \"/data_hdd/incast/out/delack_sweep_2ms\"\n",
    "# delack_sweep_exp_to_data = load_sweep(delack_sweep_dir)\n",
    "\n",
    "# def graph_delack_sweep(exp_to_data, sweep_dir):\n",
    "\n",
    "#     def get_x(data):\n",
    "#         return data[\"config\"][\"delAckCount\"]\n",
    "\n",
    "#     def get_y(data):\n",
    "#         return np.mean([end - start for start, end in data[\"burst_times\"][1:]])\n",
    "\n",
    "#     points = [(get_x(data), get_y(data)) for exp, data in exp_to_data.items()]\n",
    "#     points = sorted(points)\n",
    "#     xs, ys = zip(*points)\n",
    "#     ys = [y * 1e3 for y in ys]\n",
    "\n",
    "#     fig, axes = analysis.get_axes(width=5)\n",
    "#     ax = ax\n",
    "\n",
    "#     ax.plot(xs, ys, \"o-\", alpha=0.7)\n",
    "\n",
    "#     ax.set_title(f\"Average burst duration vs. DelAckCount\")\n",
    "#     ax.set_xlabel(\"DelAckCount\")\n",
    "#     ax.set_ylabel(\"Burst duration (ms)\")\n",
    "#     ax.set_xlim(left=0)\n",
    "#     ax.set_ylim(bottom=0)\n",
    "\n",
    "#     plt.tight_layout()\n",
    "#     analysis.show(fig)\n",
    "#     analysis.save(graph_dir, suffix=\"duration\")\n",
    "\n",
    "\n",
    "# def graph_delack_sweep_cdf(exp_to_data, sweep_dir):\n",
    "\n",
    "#     label_to_durations = {\n",
    "#         data[\"config\"][\"delAckCount\"]: [\n",
    "#             (end - start) * 1e3 for start, end in data[\"burst_times\"]\n",
    "#         ]\n",
    "#         for exp, data in exp_to_data.items()\n",
    "#     }\n",
    "\n",
    "#     fig, axes = analysis.get_axes(width=5)\n",
    "#     ax = ax\n",
    "\n",
    "#     for label, durations in sorted(label_to_durations.items()):\n",
    "#         plt.plot(\n",
    "#             np.sort(durations),\n",
    "#             np.arange(1, len(durations) + 1) / float(len(durations)),\n",
    "#             drawstyle=\"steps-post\",\n",
    "#             label=label,\n",
    "#             alpha=0.7,\n",
    "#         )\n",
    "\n",
    "#     ideal_ms = list(set(data[\"ideal_sec\"] * 1e3 for data in exp_to_data.values()))\n",
    "#     assert len(ideal_ms) == 1\n",
    "#     ideal_ms = ideal_ms[0]\n",
    "#     # plt.axvline(ideal_ms, color=\"b\", linestyle=\"dashed\", label=\"Ideal\")\n",
    "\n",
    "#     ax.set_title(f\"Burst duration CDF for various DelAckCount\")\n",
    "#     ax.set_xlabel(\"Burst duration (ms)\")\n",
    "#     ax.set_ylabel(\"CDF\")\n",
    "#     ax.set_xlim(left=0)\n",
    "#     ax.set_ylim(bottom=0, top=1.01)\n",
    "#     # ax.legend()\n",
    "\n",
    "#     plt.tight_layout()\n",
    "#     analysis.show(fig)\n",
    "#     analysis.save(graph_dir, suffix=\"duration_cdf\")\n",
    "\n",
    "# graph_delack_sweep(delack_sweep_exp_to_data, delack_sweep_dir)\n",
    "# graph_delack_sweep_cdf(delack_sweep_exp_to_data, delack_sweep_dir)\n",
    "\n",
    "# Interesting things to plot:\n",
    "# - RTT CDF: Randomly sample 1000 RTTs from each configuration, whenever there is actually traffic flowing\n",
    "# - Average non-empty queue length: Average length of the incast queue whenever it's not 0 or 1."
   ]
  }
 ],
 "metadata": {
  "jupytext": {
   "formats": "ipynb,py:percent"
  },
  "kernelspec": {
   "display_name": "incast-analysis-venv",
   "language": "python",
   "name": "incast-analysis-venv"
  },
  "language_info": {
   "codemirror_mode": {
    "name": "ipython",
    "version": 3
   },
   "file_extension": ".py",
   "mimetype": "text/x-python",
   "name": "python",
   "nbconvert_exporter": "python",
   "pygments_lexer": "ipython3",
   "version": "3.10.12"
  },
  "widgets": {
   "application/vnd.jupyter.widget-state+json": {
    "state": {
     "01ccec46d0aa434da640e8b419c90862": {
      "model_module": "@jupyter-widgets/base",
      "model_module_version": "2.0.0",
      "model_name": "LayoutModel",
      "state": {}
     },
     "0378033c92e14b409111e7444a694798": {
      "model_module": "@jupyter-widgets/base",
      "model_module_version": "2.0.0",
      "model_name": "LayoutModel",
      "state": {}
     },
     "039ffcecdbd24a308205e7841e76846f": {
      "model_module": "@jupyter-widgets/base",
      "model_module_version": "2.0.0",
      "model_name": "LayoutModel",
      "state": {}
     },
     "03d6b035d7bd4fcb9e414244736aa4a2": {
      "model_module": "@jupyter-widgets/base",
      "model_module_version": "2.0.0",
      "model_name": "LayoutModel",
      "state": {}
     },
     "0408fdefbed84c5cba5247bfaa06ec43": {
      "model_module": "@jupyter-widgets/base",
      "model_module_version": "2.0.0",
      "model_name": "LayoutModel",
      "state": {}
     },
     "04dcb8d4eac64fd0805b32d20cf4a546": {
      "model_module": "jupyter-matplotlib",
      "model_module_version": "^0.11",
      "model_name": "ToolbarModel",
      "state": {
       "_model_module_version": "^0.11",
       "_view_module_version": "^0.11",
       "collapsed": true,
       "layout": "IPY_MODEL_7977ac0faf634debbbf99fab09ab91e1",
       "orientation": "vertical",
       "toolitems": [
        [
         "Home",
         "Reset original view",
         "home",
         "home"
        ],
        [
         "Back",
         "Back to previous view",
         "arrow-left",
         "back"
        ],
        [
         "Forward",
         "Forward to next view",
         "arrow-right",
         "forward"
        ],
        [
         "Pan",
         "Left button pans, Right button zooms\nx/y fixes axis, CTRL fixes aspect",
         "arrows",
         "pan"
        ],
        [
         "Zoom",
         "Zoom to rectangle\nx/y fixes axis",
         "square-o",
         "zoom"
        ],
        [
         "Download",
         "Download plot",
         "floppy-o",
         "save_figure"
        ]
       ]
      }
     },
     "062752cafb3543548b50b49dddca9ce6": {
      "model_module": "@jupyter-widgets/base",
      "model_module_version": "2.0.0",
      "model_name": "LayoutModel",
      "state": {}
     },
     "06a7c1f5201f4880bd0bac8879b40903": {
      "model_module": "jupyter-matplotlib",
      "model_module_version": "^0.11",
      "model_name": "ToolbarModel",
      "state": {
       "_model_module_version": "^0.11",
       "_view_module_version": "^0.11",
       "collapsed": true,
       "layout": "IPY_MODEL_6f921a63b3a04d728a2d24abcd8fb9c0",
       "orientation": "vertical",
       "toolitems": [
        [
         "Home",
         "Reset original view",
         "home",
         "home"
        ],
        [
         "Back",
         "Back to previous view",
         "arrow-left",
         "back"
        ],
        [
         "Forward",
         "Forward to next view",
         "arrow-right",
         "forward"
        ],
        [
         "Pan",
         "Left button pans, Right button zooms\nx/y fixes axis, CTRL fixes aspect",
         "arrows",
         "pan"
        ],
        [
         "Zoom",
         "Zoom to rectangle\nx/y fixes axis",
         "square-o",
         "zoom"
        ],
        [
         "Download",
         "Download plot",
         "floppy-o",
         "save_figure"
        ]
       ]
      }
     },
     "0713596a4e9a4ba98b794b1fd3c85142": {
      "model_module": "jupyter-matplotlib",
      "model_module_version": "^0.11",
      "model_name": "ToolbarModel",
      "state": {
       "_model_module_version": "^0.11",
       "_view_module_version": "^0.11",
       "collapsed": true,
       "layout": "IPY_MODEL_cb190933ef414bddb79ea61011864dd1",
       "orientation": "vertical",
       "toolitems": [
        [
         "Home",
         "Reset original view",
         "home",
         "home"
        ],
        [
         "Back",
         "Back to previous view",
         "arrow-left",
         "back"
        ],
        [
         "Forward",
         "Forward to next view",
         "arrow-right",
         "forward"
        ],
        [
         "Pan",
         "Left button pans, Right button zooms\nx/y fixes axis, CTRL fixes aspect",
         "arrows",
         "pan"
        ],
        [
         "Zoom",
         "Zoom to rectangle\nx/y fixes axis",
         "square-o",
         "zoom"
        ],
        [
         "Download",
         "Download plot",
         "floppy-o",
         "save_figure"
        ]
       ]
      }
     },
     "088b5b5f6dec4792beab6e5d721a0af9": {
      "model_module": "@jupyter-widgets/base",
      "model_module_version": "2.0.0",
      "model_name": "LayoutModel",
      "state": {}
     },
     "0cee08d894684fc39bb427851aab979a": {
      "model_module": "@jupyter-widgets/base",
      "model_module_version": "2.0.0",
      "model_name": "LayoutModel",
      "state": {}
     },
     "0f97b4a06a904703be717133e777429c": {
      "model_module": "@jupyter-widgets/base",
      "model_module_version": "2.0.0",
      "model_name": "LayoutModel",
      "state": {}
     },
     "11d44614cea94aef90534048c0113651": {
      "model_module": "jupyter-matplotlib",
      "model_module_version": "^0.11",
      "model_name": "ToolbarModel",
      "state": {
       "_model_module_version": "^0.11",
       "_view_module_version": "^0.11",
       "collapsed": true,
       "layout": "IPY_MODEL_088b5b5f6dec4792beab6e5d721a0af9",
       "orientation": "vertical",
       "toolitems": [
        [
         "Home",
         "Reset original view",
         "home",
         "home"
        ],
        [
         "Back",
         "Back to previous view",
         "arrow-left",
         "back"
        ],
        [
         "Forward",
         "Forward to next view",
         "arrow-right",
         "forward"
        ],
        [
         "Pan",
         "Left button pans, Right button zooms\nx/y fixes axis, CTRL fixes aspect",
         "arrows",
         "pan"
        ],
        [
         "Zoom",
         "Zoom to rectangle\nx/y fixes axis",
         "square-o",
         "zoom"
        ],
        [
         "Download",
         "Download plot",
         "floppy-o",
         "save_figure"
        ]
       ]
      }
     },
     "12d48ae259e6468aa2b8efed88ba3c98": {
      "model_module": "jupyter-matplotlib",
      "model_module_version": "^0.11",
      "model_name": "ToolbarModel",
      "state": {
       "_model_module_version": "^0.11",
       "_view_module_version": "^0.11",
       "collapsed": true,
       "layout": "IPY_MODEL_3f7c024dd57b41ff82be2f590806228e",
       "orientation": "vertical",
       "toolitems": [
        [
         "Home",
         "Reset original view",
         "home",
         "home"
        ],
        [
         "Back",
         "Back to previous view",
         "arrow-left",
         "back"
        ],
        [
         "Forward",
         "Forward to next view",
         "arrow-right",
         "forward"
        ],
        [
         "Pan",
         "Left button pans, Right button zooms\nx/y fixes axis, CTRL fixes aspect",
         "arrows",
         "pan"
        ],
        [
         "Zoom",
         "Zoom to rectangle\nx/y fixes axis",
         "square-o",
         "zoom"
        ],
        [
         "Download",
         "Download plot",
         "floppy-o",
         "save_figure"
        ]
       ]
      }
     },
     "155c050433014ecbafdd8337066e611e": {
      "model_module": "@jupyter-widgets/base",
      "model_module_version": "2.0.0",
      "model_name": "LayoutModel",
      "state": {}
     },
     "195a7c33ca98446a960352d141be9b66": {
      "model_module": "@jupyter-widgets/base",
      "model_module_version": "2.0.0",
      "model_name": "LayoutModel",
      "state": {}
     },
     "197b7da3de7d42a49d9f02e1eca9a718": {
      "model_module": "jupyter-matplotlib",
      "model_module_version": "^0.11",
      "model_name": "ToolbarModel",
      "state": {
       "_model_module_version": "^0.11",
       "_view_module_version": "^0.11",
       "collapsed": true,
       "layout": "IPY_MODEL_c2d6572282894ac1a176b34745ea233b",
       "orientation": "vertical",
       "toolitems": [
        [
         "Home",
         "Reset original view",
         "home",
         "home"
        ],
        [
         "Back",
         "Back to previous view",
         "arrow-left",
         "back"
        ],
        [
         "Forward",
         "Forward to next view",
         "arrow-right",
         "forward"
        ],
        [
         "Pan",
         "Left button pans, Right button zooms\nx/y fixes axis, CTRL fixes aspect",
         "arrows",
         "pan"
        ],
        [
         "Zoom",
         "Zoom to rectangle\nx/y fixes axis",
         "square-o",
         "zoom"
        ],
        [
         "Download",
         "Download plot",
         "floppy-o",
         "save_figure"
        ]
       ]
      }
     },
     "1c13a13657544e7da8a62579cc832c4c": {
      "model_module": "@jupyter-widgets/base",
      "model_module_version": "2.0.0",
      "model_name": "LayoutModel",
      "state": {}
     },
     "1c182080c6974631aa176f845182599f": {
      "model_module": "jupyter-matplotlib",
      "model_module_version": "^0.11",
      "model_name": "ToolbarModel",
      "state": {
       "_model_module_version": "^0.11",
       "_view_module_version": "^0.11",
       "collapsed": true,
       "layout": "IPY_MODEL_76f16f89d2c04a4fbce5b5e25996baee",
       "orientation": "vertical",
       "toolitems": [
        [
         "Home",
         "Reset original view",
         "home",
         "home"
        ],
        [
         "Back",
         "Back to previous view",
         "arrow-left",
         "back"
        ],
        [
         "Forward",
         "Forward to next view",
         "arrow-right",
         "forward"
        ],
        [
         "Pan",
         "Left button pans, Right button zooms\nx/y fixes axis, CTRL fixes aspect",
         "arrows",
         "pan"
        ],
        [
         "Zoom",
         "Zoom to rectangle\nx/y fixes axis",
         "square-o",
         "zoom"
        ],
        [
         "Download",
         "Download plot",
         "floppy-o",
         "save_figure"
        ]
       ]
      }
     },
     "1ee20bde65744479a5aefde42c309744": {
      "model_module": "jupyter-matplotlib",
      "model_module_version": "^0.11",
      "model_name": "ToolbarModel",
      "state": {
       "_model_module_version": "^0.11",
       "_view_module_version": "^0.11",
       "collapsed": true,
       "layout": "IPY_MODEL_3ab35f2380d049ed992f71dc61d4f07e",
       "orientation": "vertical",
       "toolitems": [
        [
         "Home",
         "Reset original view",
         "home",
         "home"
        ],
        [
         "Back",
         "Back to previous view",
         "arrow-left",
         "back"
        ],
        [
         "Forward",
         "Forward to next view",
         "arrow-right",
         "forward"
        ],
        [
         "Pan",
         "Left button pans, Right button zooms\nx/y fixes axis, CTRL fixes aspect",
         "arrows",
         "pan"
        ],
        [
         "Zoom",
         "Zoom to rectangle\nx/y fixes axis",
         "square-o",
         "zoom"
        ],
        [
         "Download",
         "Download plot",
         "floppy-o",
         "save_figure"
        ]
       ]
      }
     },
     "2174f710a8cd429e9a26f30ff0fe411e": {
      "model_module": "@jupyter-widgets/base",
      "model_module_version": "2.0.0",
      "model_name": "LayoutModel",
      "state": {}
     },
     "21b3db21d12247c0a05f0e1808a04d29": {
      "model_module": "@jupyter-widgets/base",
      "model_module_version": "2.0.0",
      "model_name": "LayoutModel",
      "state": {}
     },
     "2291ef6abc994e5ea832eb853b966041": {
      "model_module": "@jupyter-widgets/base",
      "model_module_version": "2.0.0",
      "model_name": "LayoutModel",
      "state": {}
     },
     "25f623f5f88c49e8a986d1e673188b04": {
      "model_module": "@jupyter-widgets/base",
      "model_module_version": "2.0.0",
      "model_name": "LayoutModel",
      "state": {}
     },
     "2620cc730261419f981be9451c39fd4f": {
      "model_module": "@jupyter-widgets/base",
      "model_module_version": "2.0.0",
      "model_name": "LayoutModel",
      "state": {}
     },
     "26806cb20f6642039b76e88939e62efc": {
      "model_module": "@jupyter-widgets/base",
      "model_module_version": "2.0.0",
      "model_name": "LayoutModel",
      "state": {}
     },
     "280c15bae3924d3f87bee5034cb8e2d4": {
      "model_module": "@jupyter-widgets/base",
      "model_module_version": "2.0.0",
      "model_name": "LayoutModel",
      "state": {}
     },
     "280cfadb182a4d538c8364675f37df23": {
      "model_module": "@jupyter-widgets/base",
      "model_module_version": "2.0.0",
      "model_name": "LayoutModel",
      "state": {}
     },
     "28b9961929d5408ba8a225eb0c1e5544": {
      "model_module": "@jupyter-widgets/base",
      "model_module_version": "2.0.0",
      "model_name": "LayoutModel",
      "state": {}
     },
     "2910446e9cb541e5a584eae27d8ebf0c": {
      "model_module": "@jupyter-widgets/base",
      "model_module_version": "2.0.0",
      "model_name": "LayoutModel",
      "state": {}
     },
     "29992eab40fe4ab3b39743f9174798c9": {
      "model_module": "@jupyter-widgets/base",
      "model_module_version": "2.0.0",
      "model_name": "LayoutModel",
      "state": {}
     },
     "2af071ad64f340059aa3b297ce264802": {
      "model_module": "jupyter-matplotlib",
      "model_module_version": "^0.11",
      "model_name": "ToolbarModel",
      "state": {
       "_model_module_version": "^0.11",
       "_view_module_version": "^0.11",
       "collapsed": true,
       "layout": "IPY_MODEL_f27b08bc2b37451392c83d515f9f9765",
       "orientation": "vertical",
       "toolitems": [
        [
         "Home",
         "Reset original view",
         "home",
         "home"
        ],
        [
         "Back",
         "Back to previous view",
         "arrow-left",
         "back"
        ],
        [
         "Forward",
         "Forward to next view",
         "arrow-right",
         "forward"
        ],
        [
         "Pan",
         "Left button pans, Right button zooms\nx/y fixes axis, CTRL fixes aspect",
         "arrows",
         "pan"
        ],
        [
         "Zoom",
         "Zoom to rectangle\nx/y fixes axis",
         "square-o",
         "zoom"
        ],
        [
         "Download",
         "Download plot",
         "floppy-o",
         "save_figure"
        ]
       ]
      }
     },
     "2b6a90349a064289aa1a0a3895519a59": {
      "model_module": "@jupyter-widgets/base",
      "model_module_version": "2.0.0",
      "model_name": "LayoutModel",
      "state": {}
     },
     "2b6ff50bdea843ae86b875c5c3c1e70b": {
      "model_module": "@jupyter-widgets/base",
      "model_module_version": "2.0.0",
      "model_name": "LayoutModel",
      "state": {}
     },
     "2b823ca35e904144b25d4e7447068b88": {
      "model_module": "@jupyter-widgets/base",
      "model_module_version": "2.0.0",
      "model_name": "LayoutModel",
      "state": {}
     },
     "2d09ce1d4e544e06a94838ad5d8f4dcc": {
      "model_module": "@jupyter-widgets/base",
      "model_module_version": "2.0.0",
      "model_name": "LayoutModel",
      "state": {}
     },
     "2d4e1e6b7a1645c0a3c092163962892b": {
      "model_module": "@jupyter-widgets/base",
      "model_module_version": "2.0.0",
      "model_name": "LayoutModel",
      "state": {}
     },
     "2d8013c1e0bb495db6098209cfd4ab56": {
      "model_module": "@jupyter-widgets/base",
      "model_module_version": "2.0.0",
      "model_name": "LayoutModel",
      "state": {}
     },
     "30aae721fe0a48d4bac9e07bf79f2e52": {
      "model_module": "jupyter-matplotlib",
      "model_module_version": "^0.11",
      "model_name": "ToolbarModel",
      "state": {
       "_model_module_version": "^0.11",
       "_view_module_version": "^0.11",
       "collapsed": true,
       "layout": "IPY_MODEL_6fe13ce5fdd14a5e879b252777e00bf7",
       "orientation": "vertical",
       "toolitems": [
        [
         "Home",
         "Reset original view",
         "home",
         "home"
        ],
        [
         "Back",
         "Back to previous view",
         "arrow-left",
         "back"
        ],
        [
         "Forward",
         "Forward to next view",
         "arrow-right",
         "forward"
        ],
        [
         "Pan",
         "Left button pans, Right button zooms\nx/y fixes axis, CTRL fixes aspect",
         "arrows",
         "pan"
        ],
        [
         "Zoom",
         "Zoom to rectangle\nx/y fixes axis",
         "square-o",
         "zoom"
        ],
        [
         "Download",
         "Download plot",
         "floppy-o",
         "save_figure"
        ]
       ]
      }
     },
     "30d95517e1fa4d1bb18f2846a8052249": {
      "model_module": "jupyter-matplotlib",
      "model_module_version": "^0.11",
      "model_name": "ToolbarModel",
      "state": {
       "_model_module_version": "^0.11",
       "_view_module_version": "^0.11",
       "collapsed": true,
       "layout": "IPY_MODEL_d366a58065074442b75479bde3e84ea2",
       "orientation": "vertical",
       "toolitems": [
        [
         "Home",
         "Reset original view",
         "home",
         "home"
        ],
        [
         "Back",
         "Back to previous view",
         "arrow-left",
         "back"
        ],
        [
         "Forward",
         "Forward to next view",
         "arrow-right",
         "forward"
        ],
        [
         "Pan",
         "Left button pans, Right button zooms\nx/y fixes axis, CTRL fixes aspect",
         "arrows",
         "pan"
        ],
        [
         "Zoom",
         "Zoom to rectangle\nx/y fixes axis",
         "square-o",
         "zoom"
        ],
        [
         "Download",
         "Download plot",
         "floppy-o",
         "save_figure"
        ]
       ]
      }
     },
     "3251f91aa9cb42c6b1c6084afa60be0e": {
      "model_module": "@jupyter-widgets/base",
      "model_module_version": "2.0.0",
      "model_name": "LayoutModel",
      "state": {}
     },
     "3649ad2b95f744c996ad091707bebbf4": {
      "model_module": "@jupyter-widgets/base",
      "model_module_version": "2.0.0",
      "model_name": "LayoutModel",
      "state": {}
     },
     "37a266c0725b48fd873500eb2f45d406": {
      "model_module": "jupyter-matplotlib",
      "model_module_version": "^0.11",
      "model_name": "ToolbarModel",
      "state": {
       "_model_module_version": "^0.11",
       "_view_module_version": "^0.11",
       "collapsed": true,
       "layout": "IPY_MODEL_96e3f0db8f0748aeb1748517760bc09a",
       "orientation": "vertical",
       "toolitems": [
        [
         "Home",
         "Reset original view",
         "home",
         "home"
        ],
        [
         "Back",
         "Back to previous view",
         "arrow-left",
         "back"
        ],
        [
         "Forward",
         "Forward to next view",
         "arrow-right",
         "forward"
        ],
        [
         "Pan",
         "Left button pans, Right button zooms\nx/y fixes axis, CTRL fixes aspect",
         "arrows",
         "pan"
        ],
        [
         "Zoom",
         "Zoom to rectangle\nx/y fixes axis",
         "square-o",
         "zoom"
        ],
        [
         "Download",
         "Download plot",
         "floppy-o",
         "save_figure"
        ]
       ]
      }
     },
     "37da5935d54a4aacb1d18c6f75f96ba1": {
      "model_module": "@jupyter-widgets/base",
      "model_module_version": "2.0.0",
      "model_name": "LayoutModel",
      "state": {}
     },
     "394995b7264c4d85b790c9bb797e1ab8": {
      "model_module": "@jupyter-widgets/base",
      "model_module_version": "2.0.0",
      "model_name": "LayoutModel",
      "state": {}
     },
     "395382903d9440599ce8bc5aaaf5b3e4": {
      "model_module": "jupyter-matplotlib",
      "model_module_version": "^0.11",
      "model_name": "ToolbarModel",
      "state": {
       "_model_module_version": "^0.11",
       "_view_module_version": "^0.11",
       "collapsed": true,
       "layout": "IPY_MODEL_def1a5452c184d1082459cb7be006ae2",
       "orientation": "vertical",
       "toolitems": [
        [
         "Home",
         "Reset original view",
         "home",
         "home"
        ],
        [
         "Back",
         "Back to previous view",
         "arrow-left",
         "back"
        ],
        [
         "Forward",
         "Forward to next view",
         "arrow-right",
         "forward"
        ],
        [
         "Pan",
         "Left button pans, Right button zooms\nx/y fixes axis, CTRL fixes aspect",
         "arrows",
         "pan"
        ],
        [
         "Zoom",
         "Zoom to rectangle\nx/y fixes axis",
         "square-o",
         "zoom"
        ],
        [
         "Download",
         "Download plot",
         "floppy-o",
         "save_figure"
        ]
       ]
      }
     },
     "39d8e6046196423a863530df7b3db09c": {
      "model_module": "@jupyter-widgets/base",
      "model_module_version": "2.0.0",
      "model_name": "LayoutModel",
      "state": {}
     },
     "39f77ce0c60f4afcb8abd2397ea9b923": {
      "model_module": "@jupyter-widgets/base",
      "model_module_version": "2.0.0",
      "model_name": "LayoutModel",
      "state": {}
     },
     "3a15b7fea3c4429ba434ec1f06d0e9fe": {
      "model_module": "@jupyter-widgets/base",
      "model_module_version": "2.0.0",
      "model_name": "LayoutModel",
      "state": {}
     },
     "3a47a84914da477c9a5c357a682a2a1c": {
      "model_module": "jupyter-matplotlib",
      "model_module_version": "^0.11",
      "model_name": "ToolbarModel",
      "state": {
       "_model_module_version": "^0.11",
       "_view_module_version": "^0.11",
       "collapsed": true,
       "layout": "IPY_MODEL_0cee08d894684fc39bb427851aab979a",
       "orientation": "vertical",
       "toolitems": [
        [
         "Home",
         "Reset original view",
         "home",
         "home"
        ],
        [
         "Back",
         "Back to previous view",
         "arrow-left",
         "back"
        ],
        [
         "Forward",
         "Forward to next view",
         "arrow-right",
         "forward"
        ],
        [
         "Pan",
         "Left button pans, Right button zooms\nx/y fixes axis, CTRL fixes aspect",
         "arrows",
         "pan"
        ],
        [
         "Zoom",
         "Zoom to rectangle\nx/y fixes axis",
         "square-o",
         "zoom"
        ],
        [
         "Download",
         "Download plot",
         "floppy-o",
         "save_figure"
        ]
       ]
      }
     },
     "3ab35f2380d049ed992f71dc61d4f07e": {
      "model_module": "@jupyter-widgets/base",
      "model_module_version": "2.0.0",
      "model_name": "LayoutModel",
      "state": {}
     },
     "3bd569c068df4493ad84dbc02ce3e53d": {
      "model_module": "jupyter-matplotlib",
      "model_module_version": "^0.11",
      "model_name": "ToolbarModel",
      "state": {
       "_model_module_version": "^0.11",
       "_view_module_version": "^0.11",
       "collapsed": true,
       "layout": "IPY_MODEL_b2487d9e4f8148d9b3613d6dc69ec679",
       "orientation": "vertical",
       "toolitems": [
        [
         "Home",
         "Reset original view",
         "home",
         "home"
        ],
        [
         "Back",
         "Back to previous view",
         "arrow-left",
         "back"
        ],
        [
         "Forward",
         "Forward to next view",
         "arrow-right",
         "forward"
        ],
        [
         "Pan",
         "Left button pans, Right button zooms\nx/y fixes axis, CTRL fixes aspect",
         "arrows",
         "pan"
        ],
        [
         "Zoom",
         "Zoom to rectangle\nx/y fixes axis",
         "square-o",
         "zoom"
        ],
        [
         "Download",
         "Download plot",
         "floppy-o",
         "save_figure"
        ]
       ]
      }
     },
     "3c91149650534e03a03332874080f030": {
      "model_module": "@jupyter-widgets/base",
      "model_module_version": "2.0.0",
      "model_name": "LayoutModel",
      "state": {}
     },
     "3c9e0356fa0c4b138f7ebc7d8fea360b": {
      "model_module": "@jupyter-widgets/base",
      "model_module_version": "2.0.0",
      "model_name": "LayoutModel",
      "state": {}
     },
     "3cda14cce92149b28e520b08ce899b0f": {
      "model_module": "@jupyter-widgets/base",
      "model_module_version": "2.0.0",
      "model_name": "LayoutModel",
      "state": {}
     },
     "3df038216ec944aba351e19fdcd8e352": {
      "model_module": "@jupyter-widgets/base",
      "model_module_version": "2.0.0",
      "model_name": "LayoutModel",
      "state": {}
     },
     "3f1d22bea8114bc583549bf1bf3ca51f": {
      "model_module": "jupyter-matplotlib",
      "model_module_version": "^0.11",
      "model_name": "ToolbarModel",
      "state": {
       "_model_module_version": "^0.11",
       "_view_module_version": "^0.11",
       "collapsed": true,
       "layout": "IPY_MODEL_3a15b7fea3c4429ba434ec1f06d0e9fe",
       "orientation": "vertical",
       "toolitems": [
        [
         "Home",
         "Reset original view",
         "home",
         "home"
        ],
        [
         "Back",
         "Back to previous view",
         "arrow-left",
         "back"
        ],
        [
         "Forward",
         "Forward to next view",
         "arrow-right",
         "forward"
        ],
        [
         "Pan",
         "Left button pans, Right button zooms\nx/y fixes axis, CTRL fixes aspect",
         "arrows",
         "pan"
        ],
        [
         "Zoom",
         "Zoom to rectangle\nx/y fixes axis",
         "square-o",
         "zoom"
        ],
        [
         "Download",
         "Download plot",
         "floppy-o",
         "save_figure"
        ]
       ]
      }
     },
     "3f314a2908724956a7fcfd2594e1f5a5": {
      "model_module": "@jupyter-widgets/base",
      "model_module_version": "2.0.0",
      "model_name": "LayoutModel",
      "state": {}
     },
     "3f3dc979c17a444a84f5c3c67169b296": {
      "model_module": "jupyter-matplotlib",
      "model_module_version": "^0.11",
      "model_name": "ToolbarModel",
      "state": {
       "_model_module_version": "^0.11",
       "_view_module_version": "^0.11",
       "collapsed": true,
       "layout": "IPY_MODEL_524c824cbedd43df8b4dd6f91e982406",
       "orientation": "vertical",
       "toolitems": [
        [
         "Home",
         "Reset original view",
         "home",
         "home"
        ],
        [
         "Back",
         "Back to previous view",
         "arrow-left",
         "back"
        ],
        [
         "Forward",
         "Forward to next view",
         "arrow-right",
         "forward"
        ],
        [
         "Pan",
         "Left button pans, Right button zooms\nx/y fixes axis, CTRL fixes aspect",
         "arrows",
         "pan"
        ],
        [
         "Zoom",
         "Zoom to rectangle\nx/y fixes axis",
         "square-o",
         "zoom"
        ],
        [
         "Download",
         "Download plot",
         "floppy-o",
         "save_figure"
        ]
       ]
      }
     },
     "3f7c024dd57b41ff82be2f590806228e": {
      "model_module": "@jupyter-widgets/base",
      "model_module_version": "2.0.0",
      "model_name": "LayoutModel",
      "state": {}
     },
     "4038d827c00e425aa48f03f4887aff02": {
      "model_module": "@jupyter-widgets/base",
      "model_module_version": "2.0.0",
      "model_name": "LayoutModel",
      "state": {}
     },
     "4304122d06144c3fa36dca1e5af41677": {
      "model_module": "@jupyter-widgets/base",
      "model_module_version": "2.0.0",
      "model_name": "LayoutModel",
      "state": {}
     },
     "430deac7db884a1bb5c71b9d7806c303": {
      "model_module": "@jupyter-widgets/base",
      "model_module_version": "2.0.0",
      "model_name": "LayoutModel",
      "state": {}
     },
     "43220d88d30144d9832d97eb3dfc6479": {
      "model_module": "jupyter-matplotlib",
      "model_module_version": "^0.11",
      "model_name": "ToolbarModel",
      "state": {
       "_model_module_version": "^0.11",
       "_view_module_version": "^0.11",
       "collapsed": true,
       "layout": "IPY_MODEL_f57a819061c2462c94f73d191bc0d94c",
       "orientation": "vertical",
       "toolitems": [
        [
         "Home",
         "Reset original view",
         "home",
         "home"
        ],
        [
         "Back",
         "Back to previous view",
         "arrow-left",
         "back"
        ],
        [
         "Forward",
         "Forward to next view",
         "arrow-right",
         "forward"
        ],
        [
         "Pan",
         "Left button pans, Right button zooms\nx/y fixes axis, CTRL fixes aspect",
         "arrows",
         "pan"
        ],
        [
         "Zoom",
         "Zoom to rectangle\nx/y fixes axis",
         "square-o",
         "zoom"
        ],
        [
         "Download",
         "Download plot",
         "floppy-o",
         "save_figure"
        ]
       ]
      }
     },
     "4acb56adbfbc46379861fd54c3898ef6": {
      "model_module": "@jupyter-widgets/base",
      "model_module_version": "2.0.0",
      "model_name": "LayoutModel",
      "state": {}
     },
     "4bda4b21f73b49e5b7eba09f7e92843c": {
      "model_module": "jupyter-matplotlib",
      "model_module_version": "^0.11",
      "model_name": "ToolbarModel",
      "state": {
       "_model_module_version": "^0.11",
       "_view_module_version": "^0.11",
       "collapsed": true,
       "layout": "IPY_MODEL_67e816e143e44266ab0be3e47e03f140",
       "orientation": "vertical",
       "toolitems": [
        [
         "Home",
         "Reset original view",
         "home",
         "home"
        ],
        [
         "Back",
         "Back to previous view",
         "arrow-left",
         "back"
        ],
        [
         "Forward",
         "Forward to next view",
         "arrow-right",
         "forward"
        ],
        [
         "Pan",
         "Left button pans, Right button zooms\nx/y fixes axis, CTRL fixes aspect",
         "arrows",
         "pan"
        ],
        [
         "Zoom",
         "Zoom to rectangle\nx/y fixes axis",
         "square-o",
         "zoom"
        ],
        [
         "Download",
         "Download plot",
         "floppy-o",
         "save_figure"
        ]
       ]
      }
     },
     "4c4bfae76eee4e56a7b47f208e7b3949": {
      "model_module": "@jupyter-widgets/base",
      "model_module_version": "2.0.0",
      "model_name": "LayoutModel",
      "state": {}
     },
     "4d288e5ecf3c4aef9025a6c23e4b5a9b": {
      "model_module": "@jupyter-widgets/base",
      "model_module_version": "2.0.0",
      "model_name": "LayoutModel",
      "state": {}
     },
     "4f88e39c0d5b4a7db62dea8e83a25d4c": {
      "model_module": "jupyter-matplotlib",
      "model_module_version": "^0.11",
      "model_name": "ToolbarModel",
      "state": {
       "_model_module_version": "^0.11",
       "_view_module_version": "^0.11",
       "collapsed": true,
       "layout": "IPY_MODEL_0378033c92e14b409111e7444a694798",
       "orientation": "vertical",
       "toolitems": [
        [
         "Home",
         "Reset original view",
         "home",
         "home"
        ],
        [
         "Back",
         "Back to previous view",
         "arrow-left",
         "back"
        ],
        [
         "Forward",
         "Forward to next view",
         "arrow-right",
         "forward"
        ],
        [
         "Pan",
         "Left button pans, Right button zooms\nx/y fixes axis, CTRL fixes aspect",
         "arrows",
         "pan"
        ],
        [
         "Zoom",
         "Zoom to rectangle\nx/y fixes axis",
         "square-o",
         "zoom"
        ],
        [
         "Download",
         "Download plot",
         "floppy-o",
         "save_figure"
        ]
       ]
      }
     },
     "504915aa0b4444a2a88ea60304cf454a": {
      "model_module": "@jupyter-widgets/base",
      "model_module_version": "2.0.0",
      "model_name": "LayoutModel",
      "state": {}
     },
     "51c914b9b73147b2a3648879a25df3e9": {
      "model_module": "@jupyter-widgets/base",
      "model_module_version": "2.0.0",
      "model_name": "LayoutModel",
      "state": {}
     },
     "524c824cbedd43df8b4dd6f91e982406": {
      "model_module": "@jupyter-widgets/base",
      "model_module_version": "2.0.0",
      "model_name": "LayoutModel",
      "state": {}
     },
     "52a46002ad1e40aa80553fde9a719dcc": {
      "model_module": "@jupyter-widgets/base",
      "model_module_version": "2.0.0",
      "model_name": "LayoutModel",
      "state": {}
     },
     "53af44f817b745989fee59dd4ea03792": {
      "model_module": "jupyter-matplotlib",
      "model_module_version": "^0.11",
      "model_name": "ToolbarModel",
      "state": {
       "_model_module_version": "^0.11",
       "_view_module_version": "^0.11",
       "collapsed": true,
       "layout": "IPY_MODEL_03d6b035d7bd4fcb9e414244736aa4a2",
       "orientation": "vertical",
       "toolitems": [
        [
         "Home",
         "Reset original view",
         "home",
         "home"
        ],
        [
         "Back",
         "Back to previous view",
         "arrow-left",
         "back"
        ],
        [
         "Forward",
         "Forward to next view",
         "arrow-right",
         "forward"
        ],
        [
         "Pan",
         "Left button pans, Right button zooms\nx/y fixes axis, CTRL fixes aspect",
         "arrows",
         "pan"
        ],
        [
         "Zoom",
         "Zoom to rectangle\nx/y fixes axis",
         "square-o",
         "zoom"
        ],
        [
         "Download",
         "Download plot",
         "floppy-o",
         "save_figure"
        ]
       ]
      }
     },
     "5480a26b025c41d59684f363564ec098": {
      "model_module": "@jupyter-widgets/base",
      "model_module_version": "2.0.0",
      "model_name": "LayoutModel",
      "state": {}
     },
     "56cd71a83c7849f9a3f9306663a34220": {
      "model_module": "@jupyter-widgets/base",
      "model_module_version": "2.0.0",
      "model_name": "LayoutModel",
      "state": {}
     },
     "57b8a749f2644773960b021fce0667e6": {
      "model_module": "@jupyter-widgets/base",
      "model_module_version": "2.0.0",
      "model_name": "LayoutModel",
      "state": {}
     },
     "5a0413d2197a466db4ad0d4600763358": {
      "model_module": "jupyter-matplotlib",
      "model_module_version": "^0.11",
      "model_name": "ToolbarModel",
      "state": {
       "_model_module_version": "^0.11",
       "_view_module_version": "^0.11",
       "collapsed": true,
       "layout": "IPY_MODEL_68de447328af4c4db8b688144a168e8d",
       "orientation": "vertical",
       "toolitems": [
        [
         "Home",
         "Reset original view",
         "home",
         "home"
        ],
        [
         "Back",
         "Back to previous view",
         "arrow-left",
         "back"
        ],
        [
         "Forward",
         "Forward to next view",
         "arrow-right",
         "forward"
        ],
        [
         "Pan",
         "Left button pans, Right button zooms\nx/y fixes axis, CTRL fixes aspect",
         "arrows",
         "pan"
        ],
        [
         "Zoom",
         "Zoom to rectangle\nx/y fixes axis",
         "square-o",
         "zoom"
        ],
        [
         "Download",
         "Download plot",
         "floppy-o",
         "save_figure"
        ]
       ]
      }
     },
     "5a7c57c7b4634780b0fd301a32e4b2c1": {
      "model_module": "@jupyter-widgets/base",
      "model_module_version": "2.0.0",
      "model_name": "LayoutModel",
      "state": {}
     },
     "5d9640942cda466ea5f271d1c675da96": {
      "model_module": "@jupyter-widgets/base",
      "model_module_version": "2.0.0",
      "model_name": "LayoutModel",
      "state": {}
     },
     "5e0bc7d67d1f421999e44f73071912cb": {
      "model_module": "@jupyter-widgets/base",
      "model_module_version": "2.0.0",
      "model_name": "LayoutModel",
      "state": {}
     },
     "5ff85c599deb4e8f85a57050975e5515": {
      "model_module": "jupyter-matplotlib",
      "model_module_version": "^0.11",
      "model_name": "ToolbarModel",
      "state": {
       "_model_module_version": "^0.11",
       "_view_module_version": "^0.11",
       "collapsed": true,
       "layout": "IPY_MODEL_5a7c57c7b4634780b0fd301a32e4b2c1",
       "orientation": "vertical",
       "toolitems": [
        [
         "Home",
         "Reset original view",
         "home",
         "home"
        ],
        [
         "Back",
         "Back to previous view",
         "arrow-left",
         "back"
        ],
        [
         "Forward",
         "Forward to next view",
         "arrow-right",
         "forward"
        ],
        [
         "Pan",
         "Left button pans, Right button zooms\nx/y fixes axis, CTRL fixes aspect",
         "arrows",
         "pan"
        ],
        [
         "Zoom",
         "Zoom to rectangle\nx/y fixes axis",
         "square-o",
         "zoom"
        ],
        [
         "Download",
         "Download plot",
         "floppy-o",
         "save_figure"
        ]
       ]
      }
     },
     "603700d6d01a4de7b2c1f47197a4df26": {
      "model_module": "jupyter-matplotlib",
      "model_module_version": "^0.11",
      "model_name": "ToolbarModel",
      "state": {
       "_model_module_version": "^0.11",
       "_view_module_version": "^0.11",
       "collapsed": true,
       "layout": "IPY_MODEL_29992eab40fe4ab3b39743f9174798c9",
       "orientation": "vertical",
       "toolitems": [
        [
         "Home",
         "Reset original view",
         "home",
         "home"
        ],
        [
         "Back",
         "Back to previous view",
         "arrow-left",
         "back"
        ],
        [
         "Forward",
         "Forward to next view",
         "arrow-right",
         "forward"
        ],
        [
         "Pan",
         "Left button pans, Right button zooms\nx/y fixes axis, CTRL fixes aspect",
         "arrows",
         "pan"
        ],
        [
         "Zoom",
         "Zoom to rectangle\nx/y fixes axis",
         "square-o",
         "zoom"
        ],
        [
         "Download",
         "Download plot",
         "floppy-o",
         "save_figure"
        ]
       ]
      }
     },
     "63167a4b8fa547a38324d86516083143": {
      "model_module": "@jupyter-widgets/base",
      "model_module_version": "2.0.0",
      "model_name": "LayoutModel",
      "state": {}
     },
     "640588e7479b4cd09d5bfaefa7e42307": {
      "model_module": "@jupyter-widgets/base",
      "model_module_version": "2.0.0",
      "model_name": "LayoutModel",
      "state": {}
     },
     "67e816e143e44266ab0be3e47e03f140": {
      "model_module": "@jupyter-widgets/base",
      "model_module_version": "2.0.0",
      "model_name": "LayoutModel",
      "state": {}
     },
     "67eb93e846974762b774246f19af7914": {
      "model_module": "jupyter-matplotlib",
      "model_module_version": "^0.11",
      "model_name": "ToolbarModel",
      "state": {
       "_model_module_version": "^0.11",
       "_view_module_version": "^0.11",
       "collapsed": true,
       "layout": "IPY_MODEL_fb82d31eccf748cda9b901f7a9e6f3d6",
       "orientation": "vertical",
       "toolitems": [
        [
         "Home",
         "Reset original view",
         "home",
         "home"
        ],
        [
         "Back",
         "Back to previous view",
         "arrow-left",
         "back"
        ],
        [
         "Forward",
         "Forward to next view",
         "arrow-right",
         "forward"
        ],
        [
         "Pan",
         "Left button pans, Right button zooms\nx/y fixes axis, CTRL fixes aspect",
         "arrows",
         "pan"
        ],
        [
         "Zoom",
         "Zoom to rectangle\nx/y fixes axis",
         "square-o",
         "zoom"
        ],
        [
         "Download",
         "Download plot",
         "floppy-o",
         "save_figure"
        ]
       ]
      }
     },
     "685cd441ccf843069299dc16082b6a26": {
      "model_module": "@jupyter-widgets/base",
      "model_module_version": "2.0.0",
      "model_name": "LayoutModel",
      "state": {}
     },
     "6883177d3005425593bcda3752845419": {
      "model_module": "jupyter-matplotlib",
      "model_module_version": "^0.11",
      "model_name": "ToolbarModel",
      "state": {
       "_model_module_version": "^0.11",
       "_view_module_version": "^0.11",
       "collapsed": true,
       "layout": "IPY_MODEL_c662d7ef10024462a93b25d1602a75e8",
       "orientation": "vertical",
       "toolitems": [
        [
         "Home",
         "Reset original view",
         "home",
         "home"
        ],
        [
         "Back",
         "Back to previous view",
         "arrow-left",
         "back"
        ],
        [
         "Forward",
         "Forward to next view",
         "arrow-right",
         "forward"
        ],
        [
         "Pan",
         "Left button pans, Right button zooms\nx/y fixes axis, CTRL fixes aspect",
         "arrows",
         "pan"
        ],
        [
         "Zoom",
         "Zoom to rectangle\nx/y fixes axis",
         "square-o",
         "zoom"
        ],
        [
         "Download",
         "Download plot",
         "floppy-o",
         "save_figure"
        ]
       ]
      }
     },
     "68de447328af4c4db8b688144a168e8d": {
      "model_module": "@jupyter-widgets/base",
      "model_module_version": "2.0.0",
      "model_name": "LayoutModel",
      "state": {}
     },
     "6a5dd622aae04e279c27a9b94ebf7387": {
      "model_module": "@jupyter-widgets/base",
      "model_module_version": "2.0.0",
      "model_name": "LayoutModel",
      "state": {}
     },
     "6be31faced224b67be6d3846058f2ebd": {
      "model_module": "@jupyter-widgets/base",
      "model_module_version": "2.0.0",
      "model_name": "LayoutModel",
      "state": {}
     },
     "6bebb02e2e6d4520938e764b9ac508c8": {
      "model_module": "@jupyter-widgets/base",
      "model_module_version": "2.0.0",
      "model_name": "LayoutModel",
      "state": {}
     },
     "6c37cbf2f79143fbbc6d89d39c91771b": {
      "model_module": "@jupyter-widgets/base",
      "model_module_version": "2.0.0",
      "model_name": "LayoutModel",
      "state": {}
     },
     "6e2cde00d48d4354a5a21adaa9809b83": {
      "model_module": "@jupyter-widgets/base",
      "model_module_version": "2.0.0",
      "model_name": "LayoutModel",
      "state": {}
     },
     "6eebb4cb23f64356bcf06af380530237": {
      "model_module": "@jupyter-widgets/base",
      "model_module_version": "2.0.0",
      "model_name": "LayoutModel",
      "state": {}
     },
     "6f41eb2e824040dbaeb47866317a1947": {
      "model_module": "@jupyter-widgets/base",
      "model_module_version": "2.0.0",
      "model_name": "LayoutModel",
      "state": {}
     },
     "6f921a63b3a04d728a2d24abcd8fb9c0": {
      "model_module": "@jupyter-widgets/base",
      "model_module_version": "2.0.0",
      "model_name": "LayoutModel",
      "state": {}
     },
     "6fe13ce5fdd14a5e879b252777e00bf7": {
      "model_module": "@jupyter-widgets/base",
      "model_module_version": "2.0.0",
      "model_name": "LayoutModel",
      "state": {}
     },
     "70c7bea723f04995b4143c8d5203efc9": {
      "model_module": "jupyter-matplotlib",
      "model_module_version": "^0.11",
      "model_name": "ToolbarModel",
      "state": {
       "_model_module_version": "^0.11",
       "_view_module_version": "^0.11",
       "collapsed": true,
       "layout": "IPY_MODEL_b923a2b659754ac9bea6b430b6adb956",
       "orientation": "vertical",
       "toolitems": [
        [
         "Home",
         "Reset original view",
         "home",
         "home"
        ],
        [
         "Back",
         "Back to previous view",
         "arrow-left",
         "back"
        ],
        [
         "Forward",
         "Forward to next view",
         "arrow-right",
         "forward"
        ],
        [
         "Pan",
         "Left button pans, Right button zooms\nx/y fixes axis, CTRL fixes aspect",
         "arrows",
         "pan"
        ],
        [
         "Zoom",
         "Zoom to rectangle\nx/y fixes axis",
         "square-o",
         "zoom"
        ],
        [
         "Download",
         "Download plot",
         "floppy-o",
         "save_figure"
        ]
       ]
      }
     },
     "731599b1ea604e968c7498a69c439c89": {
      "model_module": "@jupyter-widgets/base",
      "model_module_version": "2.0.0",
      "model_name": "LayoutModel",
      "state": {}
     },
     "73dc5601af4146088aba14db2bfb37a2": {
      "model_module": "jupyter-matplotlib",
      "model_module_version": "^0.11",
      "model_name": "ToolbarModel",
      "state": {
       "_model_module_version": "^0.11",
       "_view_module_version": "^0.11",
       "collapsed": true,
       "layout": "IPY_MODEL_8bfe205688ac4af3840a063effd1fe5a",
       "orientation": "vertical",
       "toolitems": [
        [
         "Home",
         "Reset original view",
         "home",
         "home"
        ],
        [
         "Back",
         "Back to previous view",
         "arrow-left",
         "back"
        ],
        [
         "Forward",
         "Forward to next view",
         "arrow-right",
         "forward"
        ],
        [
         "Pan",
         "Left button pans, Right button zooms\nx/y fixes axis, CTRL fixes aspect",
         "arrows",
         "pan"
        ],
        [
         "Zoom",
         "Zoom to rectangle\nx/y fixes axis",
         "square-o",
         "zoom"
        ],
        [
         "Download",
         "Download plot",
         "floppy-o",
         "save_figure"
        ]
       ]
      }
     },
     "758822ccdb614974b6f0858fa954792f": {
      "model_module": "jupyter-matplotlib",
      "model_module_version": "^0.11",
      "model_name": "ToolbarModel",
      "state": {
       "_model_module_version": "^0.11",
       "_view_module_version": "^0.11",
       "collapsed": true,
       "layout": "IPY_MODEL_cef61409fbf5491b9e842d66d338174e",
       "orientation": "vertical",
       "toolitems": [
        [
         "Home",
         "Reset original view",
         "home",
         "home"
        ],
        [
         "Back",
         "Back to previous view",
         "arrow-left",
         "back"
        ],
        [
         "Forward",
         "Forward to next view",
         "arrow-right",
         "forward"
        ],
        [
         "Pan",
         "Left button pans, Right button zooms\nx/y fixes axis, CTRL fixes aspect",
         "arrows",
         "pan"
        ],
        [
         "Zoom",
         "Zoom to rectangle\nx/y fixes axis",
         "square-o",
         "zoom"
        ],
        [
         "Download",
         "Download plot",
         "floppy-o",
         "save_figure"
        ]
       ]
      }
     },
     "76f16f89d2c04a4fbce5b5e25996baee": {
      "model_module": "@jupyter-widgets/base",
      "model_module_version": "2.0.0",
      "model_name": "LayoutModel",
      "state": {}
     },
     "76f8139eeac849b8a0ffff564c7a16b2": {
      "model_module": "jupyter-matplotlib",
      "model_module_version": "^0.11",
      "model_name": "ToolbarModel",
      "state": {
       "_model_module_version": "^0.11",
       "_view_module_version": "^0.11",
       "collapsed": true,
       "layout": "IPY_MODEL_b5a7e6a97a8b4032b83e5ed6a048f798",
       "orientation": "vertical",
       "toolitems": [
        [
         "Home",
         "Reset original view",
         "home",
         "home"
        ],
        [
         "Back",
         "Back to previous view",
         "arrow-left",
         "back"
        ],
        [
         "Forward",
         "Forward to next view",
         "arrow-right",
         "forward"
        ],
        [
         "Pan",
         "Left button pans, Right button zooms\nx/y fixes axis, CTRL fixes aspect",
         "arrows",
         "pan"
        ],
        [
         "Zoom",
         "Zoom to rectangle\nx/y fixes axis",
         "square-o",
         "zoom"
        ],
        [
         "Download",
         "Download plot",
         "floppy-o",
         "save_figure"
        ]
       ]
      }
     },
     "7977ac0faf634debbbf99fab09ab91e1": {
      "model_module": "@jupyter-widgets/base",
      "model_module_version": "2.0.0",
      "model_name": "LayoutModel",
      "state": {}
     },
     "798823fd025b48a193359be166a19236": {
      "model_module": "@jupyter-widgets/base",
      "model_module_version": "2.0.0",
      "model_name": "LayoutModel",
      "state": {}
     },
     "7b130e4de5f64359b60bfc47047148da": {
      "model_module": "@jupyter-widgets/base",
      "model_module_version": "2.0.0",
      "model_name": "LayoutModel",
      "state": {}
     },
     "7b7ac6645f304abba9019a38356639a8": {
      "model_module": "jupyter-matplotlib",
      "model_module_version": "^0.11",
      "model_name": "ToolbarModel",
      "state": {
       "_model_module_version": "^0.11",
       "_view_module_version": "^0.11",
       "collapsed": true,
       "layout": "IPY_MODEL_a0647641547a433bb2ff0803b4444e0d",
       "orientation": "vertical",
       "toolitems": [
        [
         "Home",
         "Reset original view",
         "home",
         "home"
        ],
        [
         "Back",
         "Back to previous view",
         "arrow-left",
         "back"
        ],
        [
         "Forward",
         "Forward to next view",
         "arrow-right",
         "forward"
        ],
        [
         "Pan",
         "Left button pans, Right button zooms\nx/y fixes axis, CTRL fixes aspect",
         "arrows",
         "pan"
        ],
        [
         "Zoom",
         "Zoom to rectangle\nx/y fixes axis",
         "square-o",
         "zoom"
        ],
        [
         "Download",
         "Download plot",
         "floppy-o",
         "save_figure"
        ]
       ]
      }
     },
     "7c651aa721e0442bbe59549a09dcd5df": {
      "model_module": "jupyter-matplotlib",
      "model_module_version": "^0.11",
      "model_name": "ToolbarModel",
      "state": {
       "_model_module_version": "^0.11",
       "_view_module_version": "^0.11",
       "collapsed": true,
       "layout": "IPY_MODEL_280cfadb182a4d538c8364675f37df23",
       "orientation": "vertical",
       "toolitems": [
        [
         "Home",
         "Reset original view",
         "home",
         "home"
        ],
        [
         "Back",
         "Back to previous view",
         "arrow-left",
         "back"
        ],
        [
         "Forward",
         "Forward to next view",
         "arrow-right",
         "forward"
        ],
        [
         "Pan",
         "Left button pans, Right button zooms\nx/y fixes axis, CTRL fixes aspect",
         "arrows",
         "pan"
        ],
        [
         "Zoom",
         "Zoom to rectangle\nx/y fixes axis",
         "square-o",
         "zoom"
        ],
        [
         "Download",
         "Download plot",
         "floppy-o",
         "save_figure"
        ]
       ]
      }
     },
     "7efff87eb7e44f1f9fa0f94b6d7f71d1": {
      "model_module": "@jupyter-widgets/base",
      "model_module_version": "2.0.0",
      "model_name": "LayoutModel",
      "state": {}
     },
     "7fdbbfacdbf643bda1486d5a3d783832": {
      "model_module": "jupyter-matplotlib",
      "model_module_version": "^0.11",
      "model_name": "ToolbarModel",
      "state": {
       "_model_module_version": "^0.11",
       "_view_module_version": "^0.11",
       "collapsed": true,
       "layout": "IPY_MODEL_e12eca8e4390488b864e6e2b2b2831e2",
       "orientation": "vertical",
       "toolitems": [
        [
         "Home",
         "Reset original view",
         "home",
         "home"
        ],
        [
         "Back",
         "Back to previous view",
         "arrow-left",
         "back"
        ],
        [
         "Forward",
         "Forward to next view",
         "arrow-right",
         "forward"
        ],
        [
         "Pan",
         "Left button pans, Right button zooms\nx/y fixes axis, CTRL fixes aspect",
         "arrows",
         "pan"
        ],
        [
         "Zoom",
         "Zoom to rectangle\nx/y fixes axis",
         "square-o",
         "zoom"
        ],
        [
         "Download",
         "Download plot",
         "floppy-o",
         "save_figure"
        ]
       ]
      }
     },
     "8259b9e0b7e64b51b264a84639556434": {
      "model_module": "jupyter-matplotlib",
      "model_module_version": "^0.11",
      "model_name": "ToolbarModel",
      "state": {
       "_model_module_version": "^0.11",
       "_view_module_version": "^0.11",
       "collapsed": true,
       "layout": "IPY_MODEL_685cd441ccf843069299dc16082b6a26",
       "orientation": "vertical",
       "toolitems": [
        [
         "Home",
         "Reset original view",
         "home",
         "home"
        ],
        [
         "Back",
         "Back to previous view",
         "arrow-left",
         "back"
        ],
        [
         "Forward",
         "Forward to next view",
         "arrow-right",
         "forward"
        ],
        [
         "Pan",
         "Left button pans, Right button zooms\nx/y fixes axis, CTRL fixes aspect",
         "arrows",
         "pan"
        ],
        [
         "Zoom",
         "Zoom to rectangle\nx/y fixes axis",
         "square-o",
         "zoom"
        ],
        [
         "Download",
         "Download plot",
         "floppy-o",
         "save_figure"
        ]
       ]
      }
     },
     "826ce947158842258dcb1efc3b3fc03a": {
      "model_module": "@jupyter-widgets/base",
      "model_module_version": "2.0.0",
      "model_name": "LayoutModel",
      "state": {}
     },
     "828f4b600c454ea59e1e18ef3306f84a": {
      "model_module": "jupyter-matplotlib",
      "model_module_version": "^0.11",
      "model_name": "ToolbarModel",
      "state": {
       "_model_module_version": "^0.11",
       "_view_module_version": "^0.11",
       "collapsed": true,
       "layout": "IPY_MODEL_b036cdb7e6b64d6ca1aa0392224a6bb7",
       "orientation": "vertical",
       "toolitems": [
        [
         "Home",
         "Reset original view",
         "home",
         "home"
        ],
        [
         "Back",
         "Back to previous view",
         "arrow-left",
         "back"
        ],
        [
         "Forward",
         "Forward to next view",
         "arrow-right",
         "forward"
        ],
        [
         "Pan",
         "Left button pans, Right button zooms\nx/y fixes axis, CTRL fixes aspect",
         "arrows",
         "pan"
        ],
        [
         "Zoom",
         "Zoom to rectangle\nx/y fixes axis",
         "square-o",
         "zoom"
        ],
        [
         "Download",
         "Download plot",
         "floppy-o",
         "save_figure"
        ]
       ]
      }
     },
     "83192d44f2614f94a5eb632acfcb05c1": {
      "model_module": "jupyter-matplotlib",
      "model_module_version": "^0.11",
      "model_name": "ToolbarModel",
      "state": {
       "_model_module_version": "^0.11",
       "_view_module_version": "^0.11",
       "collapsed": true,
       "layout": "IPY_MODEL_2b6a90349a064289aa1a0a3895519a59",
       "orientation": "vertical",
       "toolitems": [
        [
         "Home",
         "Reset original view",
         "home",
         "home"
        ],
        [
         "Back",
         "Back to previous view",
         "arrow-left",
         "back"
        ],
        [
         "Forward",
         "Forward to next view",
         "arrow-right",
         "forward"
        ],
        [
         "Pan",
         "Left button pans, Right button zooms\nx/y fixes axis, CTRL fixes aspect",
         "arrows",
         "pan"
        ],
        [
         "Zoom",
         "Zoom to rectangle\nx/y fixes axis",
         "square-o",
         "zoom"
        ],
        [
         "Download",
         "Download plot",
         "floppy-o",
         "save_figure"
        ]
       ]
      }
     },
     "83c3a3b5234f453a8e5a854d2065a0b9": {
      "model_module": "@jupyter-widgets/base",
      "model_module_version": "2.0.0",
      "model_name": "LayoutModel",
      "state": {}
     },
     "87227b7a65ac4b53b62864f367fe45fc": {
      "model_module": "@jupyter-widgets/base",
      "model_module_version": "2.0.0",
      "model_name": "LayoutModel",
      "state": {}
     },
     "8903b037dd994eda8e944cc813815eca": {
      "model_module": "@jupyter-widgets/base",
      "model_module_version": "2.0.0",
      "model_name": "LayoutModel",
      "state": {}
     },
     "8975b7d908a247c1bfdc0be60572fc63": {
      "model_module": "@jupyter-widgets/base",
      "model_module_version": "2.0.0",
      "model_name": "LayoutModel",
      "state": {}
     },
     "8bfe205688ac4af3840a063effd1fe5a": {
      "model_module": "@jupyter-widgets/base",
      "model_module_version": "2.0.0",
      "model_name": "LayoutModel",
      "state": {}
     },
     "8c887a8748a44bb6afd99d953e76ff6b": {
      "model_module": "jupyter-matplotlib",
      "model_module_version": "^0.11",
      "model_name": "ToolbarModel",
      "state": {
       "_model_module_version": "^0.11",
       "_view_module_version": "^0.11",
       "collapsed": true,
       "layout": "IPY_MODEL_fd06dfd12a8741128544c955e5397cdb",
       "orientation": "vertical",
       "toolitems": [
        [
         "Home",
         "Reset original view",
         "home",
         "home"
        ],
        [
         "Back",
         "Back to previous view",
         "arrow-left",
         "back"
        ],
        [
         "Forward",
         "Forward to next view",
         "arrow-right",
         "forward"
        ],
        [
         "Pan",
         "Left button pans, Right button zooms\nx/y fixes axis, CTRL fixes aspect",
         "arrows",
         "pan"
        ],
        [
         "Zoom",
         "Zoom to rectangle\nx/y fixes axis",
         "square-o",
         "zoom"
        ],
        [
         "Download",
         "Download plot",
         "floppy-o",
         "save_figure"
        ]
       ]
      }
     },
     "8cb0d8f7f08448d9ba4d4a427254b64b": {
      "model_module": "@jupyter-widgets/base",
      "model_module_version": "2.0.0",
      "model_name": "LayoutModel",
      "state": {}
     },
     "8d6d105f666e4085aa87fe9cf24b8a8a": {
      "model_module": "jupyter-matplotlib",
      "model_module_version": "^0.11",
      "model_name": "ToolbarModel",
      "state": {
       "_model_module_version": "^0.11",
       "_view_module_version": "^0.11",
       "collapsed": true,
       "layout": "IPY_MODEL_a94495bca20343af90cacceb401b331a",
       "orientation": "vertical",
       "toolitems": [
        [
         "Home",
         "Reset original view",
         "home",
         "home"
        ],
        [
         "Back",
         "Back to previous view",
         "arrow-left",
         "back"
        ],
        [
         "Forward",
         "Forward to next view",
         "arrow-right",
         "forward"
        ],
        [
         "Pan",
         "Left button pans, Right button zooms\nx/y fixes axis, CTRL fixes aspect",
         "arrows",
         "pan"
        ],
        [
         "Zoom",
         "Zoom to rectangle\nx/y fixes axis",
         "square-o",
         "zoom"
        ],
        [
         "Download",
         "Download plot",
         "floppy-o",
         "save_figure"
        ]
       ]
      }
     },
     "8f20ea7748ce46e4a2419fa3017bf6ce": {
      "model_module": "jupyter-matplotlib",
      "model_module_version": "^0.11",
      "model_name": "ToolbarModel",
      "state": {
       "_model_module_version": "^0.11",
       "_view_module_version": "^0.11",
       "collapsed": true,
       "layout": "IPY_MODEL_bf7e3fe5c7de4bbc98e31f9137a4895f",
       "orientation": "vertical",
       "toolitems": [
        [
         "Home",
         "Reset original view",
         "home",
         "home"
        ],
        [
         "Back",
         "Back to previous view",
         "arrow-left",
         "back"
        ],
        [
         "Forward",
         "Forward to next view",
         "arrow-right",
         "forward"
        ],
        [
         "Pan",
         "Left button pans, Right button zooms\nx/y fixes axis, CTRL fixes aspect",
         "arrows",
         "pan"
        ],
        [
         "Zoom",
         "Zoom to rectangle\nx/y fixes axis",
         "square-o",
         "zoom"
        ],
        [
         "Download",
         "Download plot",
         "floppy-o",
         "save_figure"
        ]
       ]
      }
     },
     "8fce774d3aa34f4e9f155ec7edcb8ca9": {
      "model_module": "@jupyter-widgets/base",
      "model_module_version": "2.0.0",
      "model_name": "LayoutModel",
      "state": {}
     },
     "9011ea30af82485fa90976315bc2ed52": {
      "model_module": "jupyter-matplotlib",
      "model_module_version": "^0.11",
      "model_name": "ToolbarModel",
      "state": {
       "_model_module_version": "^0.11",
       "_view_module_version": "^0.11",
       "collapsed": true,
       "layout": "IPY_MODEL_8903b037dd994eda8e944cc813815eca",
       "orientation": "vertical",
       "toolitems": [
        [
         "Home",
         "Reset original view",
         "home",
         "home"
        ],
        [
         "Back",
         "Back to previous view",
         "arrow-left",
         "back"
        ],
        [
         "Forward",
         "Forward to next view",
         "arrow-right",
         "forward"
        ],
        [
         "Pan",
         "Left button pans, Right button zooms\nx/y fixes axis, CTRL fixes aspect",
         "arrows",
         "pan"
        ],
        [
         "Zoom",
         "Zoom to rectangle\nx/y fixes axis",
         "square-o",
         "zoom"
        ],
        [
         "Download",
         "Download plot",
         "floppy-o",
         "save_figure"
        ]
       ]
      }
     },
     "911fa309974746269a332be27b7f783a": {
      "model_module": "jupyter-matplotlib",
      "model_module_version": "^0.11",
      "model_name": "ToolbarModel",
      "state": {
       "_model_module_version": "^0.11",
       "_view_module_version": "^0.11",
       "collapsed": true,
       "layout": "IPY_MODEL_2b6ff50bdea843ae86b875c5c3c1e70b",
       "orientation": "vertical",
       "toolitems": [
        [
         "Home",
         "Reset original view",
         "home",
         "home"
        ],
        [
         "Back",
         "Back to previous view",
         "arrow-left",
         "back"
        ],
        [
         "Forward",
         "Forward to next view",
         "arrow-right",
         "forward"
        ],
        [
         "Pan",
         "Left button pans, Right button zooms\nx/y fixes axis, CTRL fixes aspect",
         "arrows",
         "pan"
        ],
        [
         "Zoom",
         "Zoom to rectangle\nx/y fixes axis",
         "square-o",
         "zoom"
        ],
        [
         "Download",
         "Download plot",
         "floppy-o",
         "save_figure"
        ]
       ]
      }
     },
     "91d695fdd74a4a1c9dacf56fa3da1ae7": {
      "model_module": "@jupyter-widgets/base",
      "model_module_version": "2.0.0",
      "model_name": "LayoutModel",
      "state": {}
     },
     "935049b419e24fe39920203488653bc1": {
      "model_module": "@jupyter-widgets/base",
      "model_module_version": "2.0.0",
      "model_name": "LayoutModel",
      "state": {}
     },
     "9681968642384fe1bdae1a4e02a0c8ab": {
      "model_module": "@jupyter-widgets/base",
      "model_module_version": "2.0.0",
      "model_name": "LayoutModel",
      "state": {}
     },
     "96e3f0db8f0748aeb1748517760bc09a": {
      "model_module": "@jupyter-widgets/base",
      "model_module_version": "2.0.0",
      "model_name": "LayoutModel",
      "state": {}
     },
     "97b8f7495de74ac7b0d6bac30ac089a3": {
      "model_module": "@jupyter-widgets/base",
      "model_module_version": "2.0.0",
      "model_name": "LayoutModel",
      "state": {}
     },
     "97d568ab037740069e1c67d3cf7a39d4": {
      "model_module": "@jupyter-widgets/base",
      "model_module_version": "2.0.0",
      "model_name": "LayoutModel",
      "state": {}
     },
     "9a696ec787884527975141a6eb375f35": {
      "model_module": "jupyter-matplotlib",
      "model_module_version": "^0.11",
      "model_name": "ToolbarModel",
      "state": {
       "_model_module_version": "^0.11",
       "_view_module_version": "^0.11",
       "collapsed": true,
       "layout": "IPY_MODEL_97b8f7495de74ac7b0d6bac30ac089a3",
       "orientation": "vertical",
       "toolitems": [
        [
         "Home",
         "Reset original view",
         "home",
         "home"
        ],
        [
         "Back",
         "Back to previous view",
         "arrow-left",
         "back"
        ],
        [
         "Forward",
         "Forward to next view",
         "arrow-right",
         "forward"
        ],
        [
         "Pan",
         "Left button pans, Right button zooms\nx/y fixes axis, CTRL fixes aspect",
         "arrows",
         "pan"
        ],
        [
         "Zoom",
         "Zoom to rectangle\nx/y fixes axis",
         "square-o",
         "zoom"
        ],
        [
         "Download",
         "Download plot",
         "floppy-o",
         "save_figure"
        ]
       ]
      }
     },
     "9d24e6830dfd42ef8d0f18b69a5b90e4": {
      "model_module": "jupyter-matplotlib",
      "model_module_version": "^0.11",
      "model_name": "ToolbarModel",
      "state": {
       "_model_module_version": "^0.11",
       "_view_module_version": "^0.11",
       "collapsed": true,
       "layout": "IPY_MODEL_0408fdefbed84c5cba5247bfaa06ec43",
       "orientation": "vertical",
       "toolitems": [
        [
         "Home",
         "Reset original view",
         "home",
         "home"
        ],
        [
         "Back",
         "Back to previous view",
         "arrow-left",
         "back"
        ],
        [
         "Forward",
         "Forward to next view",
         "arrow-right",
         "forward"
        ],
        [
         "Pan",
         "Left button pans, Right button zooms\nx/y fixes axis, CTRL fixes aspect",
         "arrows",
         "pan"
        ],
        [
         "Zoom",
         "Zoom to rectangle\nx/y fixes axis",
         "square-o",
         "zoom"
        ],
        [
         "Download",
         "Download plot",
         "floppy-o",
         "save_figure"
        ]
       ]
      }
     },
     "9ed500877a5941488fa6bd531eac5568": {
      "model_module": "@jupyter-widgets/base",
      "model_module_version": "2.0.0",
      "model_name": "LayoutModel",
      "state": {}
     },
     "9fa331fd18004870885228df153ae3f5": {
      "model_module": "jupyter-matplotlib",
      "model_module_version": "^0.11",
      "model_name": "ToolbarModel",
      "state": {
       "_model_module_version": "^0.11",
       "_view_module_version": "^0.11",
       "collapsed": true,
       "layout": "IPY_MODEL_3649ad2b95f744c996ad091707bebbf4",
       "orientation": "vertical",
       "toolitems": [
        [
         "Home",
         "Reset original view",
         "home",
         "home"
        ],
        [
         "Back",
         "Back to previous view",
         "arrow-left",
         "back"
        ],
        [
         "Forward",
         "Forward to next view",
         "arrow-right",
         "forward"
        ],
        [
         "Pan",
         "Left button pans, Right button zooms\nx/y fixes axis, CTRL fixes aspect",
         "arrows",
         "pan"
        ],
        [
         "Zoom",
         "Zoom to rectangle\nx/y fixes axis",
         "square-o",
         "zoom"
        ],
        [
         "Download",
         "Download plot",
         "floppy-o",
         "save_figure"
        ]
       ]
      }
     },
     "a0647641547a433bb2ff0803b4444e0d": {
      "model_module": "@jupyter-widgets/base",
      "model_module_version": "2.0.0",
      "model_name": "LayoutModel",
      "state": {}
     },
     "a16d10e8497b4eff97d1f81feb2742ee": {
      "model_module": "@jupyter-widgets/base",
      "model_module_version": "2.0.0",
      "model_name": "LayoutModel",
      "state": {}
     },
     "a2dc45fe23fb4a3b9697fec780045032": {
      "model_module": "jupyter-matplotlib",
      "model_module_version": "^0.11",
      "model_name": "ToolbarModel",
      "state": {
       "_model_module_version": "^0.11",
       "_view_module_version": "^0.11",
       "collapsed": true,
       "layout": "IPY_MODEL_b753c1936aa34a4da3a99a826abd3abf",
       "orientation": "vertical",
       "toolitems": [
        [
         "Home",
         "Reset original view",
         "home",
         "home"
        ],
        [
         "Back",
         "Back to previous view",
         "arrow-left",
         "back"
        ],
        [
         "Forward",
         "Forward to next view",
         "arrow-right",
         "forward"
        ],
        [
         "Pan",
         "Left button pans, Right button zooms\nx/y fixes axis, CTRL fixes aspect",
         "arrows",
         "pan"
        ],
        [
         "Zoom",
         "Zoom to rectangle\nx/y fixes axis",
         "square-o",
         "zoom"
        ],
        [
         "Download",
         "Download plot",
         "floppy-o",
         "save_figure"
        ]
       ]
      }
     },
     "a3eb48d02cdb4fa2b408053f6b8ff609": {
      "model_module": "@jupyter-widgets/base",
      "model_module_version": "2.0.0",
      "model_name": "LayoutModel",
      "state": {}
     },
     "a3f10220690a4b989db3a456d5222d7e": {
      "model_module": "@jupyter-widgets/base",
      "model_module_version": "2.0.0",
      "model_name": "LayoutModel",
      "state": {}
     },
     "a545ebac32334b8c8012b43ccdcd5c91": {
      "model_module": "@jupyter-widgets/base",
      "model_module_version": "2.0.0",
      "model_name": "LayoutModel",
      "state": {}
     },
     "a580801d72394f74b418e1e01fe7ff32": {
      "model_module": "jupyter-matplotlib",
      "model_module_version": "^0.11",
      "model_name": "ToolbarModel",
      "state": {
       "_model_module_version": "^0.11",
       "_view_module_version": "^0.11",
       "collapsed": true,
       "layout": "IPY_MODEL_fe327a619e064f7a8fceb52cf0e6b965",
       "orientation": "vertical",
       "toolitems": [
        [
         "Home",
         "Reset original view",
         "home",
         "home"
        ],
        [
         "Back",
         "Back to previous view",
         "arrow-left",
         "back"
        ],
        [
         "Forward",
         "Forward to next view",
         "arrow-right",
         "forward"
        ],
        [
         "Pan",
         "Left button pans, Right button zooms\nx/y fixes axis, CTRL fixes aspect",
         "arrows",
         "pan"
        ],
        [
         "Zoom",
         "Zoom to rectangle\nx/y fixes axis",
         "square-o",
         "zoom"
        ],
        [
         "Download",
         "Download plot",
         "floppy-o",
         "save_figure"
        ]
       ]
      }
     },
     "a620b94696ab4671ac56cb32602c8189": {
      "model_module": "jupyter-matplotlib",
      "model_module_version": "^0.11",
      "model_name": "ToolbarModel",
      "state": {
       "_model_module_version": "^0.11",
       "_view_module_version": "^0.11",
       "collapsed": true,
       "layout": "IPY_MODEL_798823fd025b48a193359be166a19236",
       "orientation": "vertical",
       "toolitems": [
        [
         "Home",
         "Reset original view",
         "home",
         "home"
        ],
        [
         "Back",
         "Back to previous view",
         "arrow-left",
         "back"
        ],
        [
         "Forward",
         "Forward to next view",
         "arrow-right",
         "forward"
        ],
        [
         "Pan",
         "Left button pans, Right button zooms\nx/y fixes axis, CTRL fixes aspect",
         "arrows",
         "pan"
        ],
        [
         "Zoom",
         "Zoom to rectangle\nx/y fixes axis",
         "square-o",
         "zoom"
        ],
        [
         "Download",
         "Download plot",
         "floppy-o",
         "save_figure"
        ]
       ]
      }
     },
     "a7818b69b707487ab3258efa6479d3f7": {
      "model_module": "jupyter-matplotlib",
      "model_module_version": "^0.11",
      "model_name": "ToolbarModel",
      "state": {
       "_current_action": "zoom",
       "_model_module_version": "^0.11",
       "_view_module_version": "^0.11",
       "collapsed": true,
       "layout": "IPY_MODEL_87227b7a65ac4b53b62864f367fe45fc",
       "orientation": "vertical",
       "toolitems": [
        [
         "Home",
         "Reset original view",
         "home",
         "home"
        ],
        [
         "Back",
         "Back to previous view",
         "arrow-left",
         "back"
        ],
        [
         "Forward",
         "Forward to next view",
         "arrow-right",
         "forward"
        ],
        [
         "Pan",
         "Left button pans, Right button zooms\nx/y fixes axis, CTRL fixes aspect",
         "arrows",
         "pan"
        ],
        [
         "Zoom",
         "Zoom to rectangle\nx/y fixes axis",
         "square-o",
         "zoom"
        ],
        [
         "Download",
         "Download plot",
         "floppy-o",
         "save_figure"
        ]
       ]
      }
     },
     "a7cb8fc12f214e3dbeec17f68ef7854e": {
      "model_module": "@jupyter-widgets/base",
      "model_module_version": "2.0.0",
      "model_name": "LayoutModel",
      "state": {}
     },
     "a80b47fc414f4df087e4abacb694a620": {
      "model_module": "jupyter-matplotlib",
      "model_module_version": "^0.11",
      "model_name": "ToolbarModel",
      "state": {
       "_model_module_version": "^0.11",
       "_view_module_version": "^0.11",
       "collapsed": true,
       "layout": "IPY_MODEL_3cda14cce92149b28e520b08ce899b0f",
       "orientation": "vertical",
       "toolitems": [
        [
         "Home",
         "Reset original view",
         "home",
         "home"
        ],
        [
         "Back",
         "Back to previous view",
         "arrow-left",
         "back"
        ],
        [
         "Forward",
         "Forward to next view",
         "arrow-right",
         "forward"
        ],
        [
         "Pan",
         "Left button pans, Right button zooms\nx/y fixes axis, CTRL fixes aspect",
         "arrows",
         "pan"
        ],
        [
         "Zoom",
         "Zoom to rectangle\nx/y fixes axis",
         "square-o",
         "zoom"
        ],
        [
         "Download",
         "Download plot",
         "floppy-o",
         "save_figure"
        ]
       ]
      }
     },
     "a8590fd4aecd4a63a9d8ff3772a7a6e3": {
      "model_module": "jupyter-matplotlib",
      "model_module_version": "^0.11",
      "model_name": "ToolbarModel",
      "state": {
       "_model_module_version": "^0.11",
       "_view_module_version": "^0.11",
       "collapsed": true,
       "layout": "IPY_MODEL_9681968642384fe1bdae1a4e02a0c8ab",
       "orientation": "vertical",
       "toolitems": [
        [
         "Home",
         "Reset original view",
         "home",
         "home"
        ],
        [
         "Back",
         "Back to previous view",
         "arrow-left",
         "back"
        ],
        [
         "Forward",
         "Forward to next view",
         "arrow-right",
         "forward"
        ],
        [
         "Pan",
         "Left button pans, Right button zooms\nx/y fixes axis, CTRL fixes aspect",
         "arrows",
         "pan"
        ],
        [
         "Zoom",
         "Zoom to rectangle\nx/y fixes axis",
         "square-o",
         "zoom"
        ],
        [
         "Download",
         "Download plot",
         "floppy-o",
         "save_figure"
        ]
       ]
      }
     },
     "a94495bca20343af90cacceb401b331a": {
      "model_module": "@jupyter-widgets/base",
      "model_module_version": "2.0.0",
      "model_name": "LayoutModel",
      "state": {}
     },
     "aa93ac3044cd486fab7b5ae932fc4847": {
      "model_module": "jupyter-matplotlib",
      "model_module_version": "^0.11",
      "model_name": "ToolbarModel",
      "state": {
       "_model_module_version": "^0.11",
       "_view_module_version": "^0.11",
       "collapsed": true,
       "layout": "IPY_MODEL_fb23dfa43a1c47f189b29228895086d6",
       "orientation": "vertical",
       "toolitems": [
        [
         "Home",
         "Reset original view",
         "home",
         "home"
        ],
        [
         "Back",
         "Back to previous view",
         "arrow-left",
         "back"
        ],
        [
         "Forward",
         "Forward to next view",
         "arrow-right",
         "forward"
        ],
        [
         "Pan",
         "Left button pans, Right button zooms\nx/y fixes axis, CTRL fixes aspect",
         "arrows",
         "pan"
        ],
        [
         "Zoom",
         "Zoom to rectangle\nx/y fixes axis",
         "square-o",
         "zoom"
        ],
        [
         "Download",
         "Download plot",
         "floppy-o",
         "save_figure"
        ]
       ]
      }
     },
     "ab671baca68d40ec84cd744c16f7db22": {
      "model_module": "@jupyter-widgets/base",
      "model_module_version": "2.0.0",
      "model_name": "LayoutModel",
      "state": {}
     },
     "acf0744bf8054d9cb8aa81cce273dd70": {
      "model_module": "@jupyter-widgets/base",
      "model_module_version": "2.0.0",
      "model_name": "LayoutModel",
      "state": {}
     },
     "ad9e64bd407440f285c62b1bfe10e81b": {
      "model_module": "@jupyter-widgets/base",
      "model_module_version": "2.0.0",
      "model_name": "LayoutModel",
      "state": {}
     },
     "aeeb6271ee174d81bb05b62afde28eb9": {
      "model_module": "@jupyter-widgets/base",
      "model_module_version": "2.0.0",
      "model_name": "LayoutModel",
      "state": {}
     },
     "af97a36484bf4bdd94520734ff0fcec6": {
      "model_module": "jupyter-matplotlib",
      "model_module_version": "^0.11",
      "model_name": "ToolbarModel",
      "state": {
       "_model_module_version": "^0.11",
       "_view_module_version": "^0.11",
       "collapsed": true,
       "layout": "IPY_MODEL_ce16ad6b299543b6b366a211d766f9be",
       "orientation": "vertical",
       "toolitems": [
        [
         "Home",
         "Reset original view",
         "home",
         "home"
        ],
        [
         "Back",
         "Back to previous view",
         "arrow-left",
         "back"
        ],
        [
         "Forward",
         "Forward to next view",
         "arrow-right",
         "forward"
        ],
        [
         "Pan",
         "Left button pans, Right button zooms\nx/y fixes axis, CTRL fixes aspect",
         "arrows",
         "pan"
        ],
        [
         "Zoom",
         "Zoom to rectangle\nx/y fixes axis",
         "square-o",
         "zoom"
        ],
        [
         "Download",
         "Download plot",
         "floppy-o",
         "save_figure"
        ]
       ]
      }
     },
     "b036cdb7e6b64d6ca1aa0392224a6bb7": {
      "model_module": "@jupyter-widgets/base",
      "model_module_version": "2.0.0",
      "model_name": "LayoutModel",
      "state": {}
     },
     "b12649067f6f4f3485d3facb74efb27e": {
      "model_module": "@jupyter-widgets/base",
      "model_module_version": "2.0.0",
      "model_name": "LayoutModel",
      "state": {}
     },
     "b2487d9e4f8148d9b3613d6dc69ec679": {
      "model_module": "@jupyter-widgets/base",
      "model_module_version": "2.0.0",
      "model_name": "LayoutModel",
      "state": {}
     },
     "b4ebd4fab4dd4e0db95096e3290f0b93": {
      "model_module": "jupyter-matplotlib",
      "model_module_version": "^0.11",
      "model_name": "ToolbarModel",
      "state": {
       "_model_module_version": "^0.11",
       "_view_module_version": "^0.11",
       "collapsed": true,
       "layout": "IPY_MODEL_ab671baca68d40ec84cd744c16f7db22",
       "orientation": "vertical",
       "toolitems": [
        [
         "Home",
         "Reset original view",
         "home",
         "home"
        ],
        [
         "Back",
         "Back to previous view",
         "arrow-left",
         "back"
        ],
        [
         "Forward",
         "Forward to next view",
         "arrow-right",
         "forward"
        ],
        [
         "Pan",
         "Left button pans, Right button zooms\nx/y fixes axis, CTRL fixes aspect",
         "arrows",
         "pan"
        ],
        [
         "Zoom",
         "Zoom to rectangle\nx/y fixes axis",
         "square-o",
         "zoom"
        ],
        [
         "Download",
         "Download plot",
         "floppy-o",
         "save_figure"
        ]
       ]
      }
     },
     "b5a7e6a97a8b4032b83e5ed6a048f798": {
      "model_module": "@jupyter-widgets/base",
      "model_module_version": "2.0.0",
      "model_name": "LayoutModel",
      "state": {}
     },
     "b71764b99ed7481e92b7c21dc5be449c": {
      "model_module": "@jupyter-widgets/base",
      "model_module_version": "2.0.0",
      "model_name": "LayoutModel",
      "state": {}
     },
     "b753c1936aa34a4da3a99a826abd3abf": {
      "model_module": "@jupyter-widgets/base",
      "model_module_version": "2.0.0",
      "model_name": "LayoutModel",
      "state": {}
     },
     "b7acf45f32d5418ea0690c71ed294bb5": {
      "model_module": "@jupyter-widgets/base",
      "model_module_version": "2.0.0",
      "model_name": "LayoutModel",
      "state": {}
     },
     "b923a2b659754ac9bea6b430b6adb956": {
      "model_module": "@jupyter-widgets/base",
      "model_module_version": "2.0.0",
      "model_name": "LayoutModel",
      "state": {}
     },
     "bcf28845974547b3b8b94fb11732df31": {
      "model_module": "@jupyter-widgets/base",
      "model_module_version": "2.0.0",
      "model_name": "LayoutModel",
      "state": {}
     },
     "bd5fe801d6eb46b5a51a6717ea872f16": {
      "model_module": "@jupyter-widgets/base",
      "model_module_version": "2.0.0",
      "model_name": "LayoutModel",
      "state": {}
     },
     "bdb4b84c849645ee998897be9883022b": {
      "model_module": "@jupyter-widgets/base",
      "model_module_version": "2.0.0",
      "model_name": "LayoutModel",
      "state": {}
     },
     "bdb76b01bb164a80a86d1e7898d5dd4e": {
      "model_module": "jupyter-matplotlib",
      "model_module_version": "^0.11",
      "model_name": "ToolbarModel",
      "state": {
       "_model_module_version": "^0.11",
       "_view_module_version": "^0.11",
       "collapsed": true,
       "layout": "IPY_MODEL_504915aa0b4444a2a88ea60304cf454a",
       "orientation": "vertical",
       "toolitems": [
        [
         "Home",
         "Reset original view",
         "home",
         "home"
        ],
        [
         "Back",
         "Back to previous view",
         "arrow-left",
         "back"
        ],
        [
         "Forward",
         "Forward to next view",
         "arrow-right",
         "forward"
        ],
        [
         "Pan",
         "Left button pans, Right button zooms\nx/y fixes axis, CTRL fixes aspect",
         "arrows",
         "pan"
        ],
        [
         "Zoom",
         "Zoom to rectangle\nx/y fixes axis",
         "square-o",
         "zoom"
        ],
        [
         "Download",
         "Download plot",
         "floppy-o",
         "save_figure"
        ]
       ]
      }
     },
     "be922b3e33db479daee4408c5ba806bb": {
      "model_module": "jupyter-matplotlib",
      "model_module_version": "^0.11",
      "model_name": "ToolbarModel",
      "state": {
       "_model_module_version": "^0.11",
       "_view_module_version": "^0.11",
       "collapsed": true,
       "layout": "IPY_MODEL_37da5935d54a4aacb1d18c6f75f96ba1",
       "orientation": "vertical",
       "toolitems": [
        [
         "Home",
         "Reset original view",
         "home",
         "home"
        ],
        [
         "Back",
         "Back to previous view",
         "arrow-left",
         "back"
        ],
        [
         "Forward",
         "Forward to next view",
         "arrow-right",
         "forward"
        ],
        [
         "Pan",
         "Left button pans, Right button zooms\nx/y fixes axis, CTRL fixes aspect",
         "arrows",
         "pan"
        ],
        [
         "Zoom",
         "Zoom to rectangle\nx/y fixes axis",
         "square-o",
         "zoom"
        ],
        [
         "Download",
         "Download plot",
         "floppy-o",
         "save_figure"
        ]
       ]
      }
     },
     "bf7e3fe5c7de4bbc98e31f9137a4895f": {
      "model_module": "@jupyter-widgets/base",
      "model_module_version": "2.0.0",
      "model_name": "LayoutModel",
      "state": {}
     },
     "bfbfd1b0f44b41ddadf3a0cb460468d7": {
      "model_module": "jupyter-matplotlib",
      "model_module_version": "^0.11",
      "model_name": "ToolbarModel",
      "state": {
       "_model_module_version": "^0.11",
       "_view_module_version": "^0.11",
       "collapsed": true,
       "layout": "IPY_MODEL_b7acf45f32d5418ea0690c71ed294bb5",
       "orientation": "vertical",
       "toolitems": [
        [
         "Home",
         "Reset original view",
         "home",
         "home"
        ],
        [
         "Back",
         "Back to previous view",
         "arrow-left",
         "back"
        ],
        [
         "Forward",
         "Forward to next view",
         "arrow-right",
         "forward"
        ],
        [
         "Pan",
         "Left button pans, Right button zooms\nx/y fixes axis, CTRL fixes aspect",
         "arrows",
         "pan"
        ],
        [
         "Zoom",
         "Zoom to rectangle\nx/y fixes axis",
         "square-o",
         "zoom"
        ],
        [
         "Download",
         "Download plot",
         "floppy-o",
         "save_figure"
        ]
       ]
      }
     },
     "c0b6440260424a108b65ac866a4da89b": {
      "model_module": "jupyter-matplotlib",
      "model_module_version": "^0.11",
      "model_name": "ToolbarModel",
      "state": {
       "_model_module_version": "^0.11",
       "_view_module_version": "^0.11",
       "collapsed": true,
       "layout": "IPY_MODEL_39f77ce0c60f4afcb8abd2397ea9b923",
       "orientation": "vertical",
       "toolitems": [
        [
         "Home",
         "Reset original view",
         "home",
         "home"
        ],
        [
         "Back",
         "Back to previous view",
         "arrow-left",
         "back"
        ],
        [
         "Forward",
         "Forward to next view",
         "arrow-right",
         "forward"
        ],
        [
         "Pan",
         "Left button pans, Right button zooms\nx/y fixes axis, CTRL fixes aspect",
         "arrows",
         "pan"
        ],
        [
         "Zoom",
         "Zoom to rectangle\nx/y fixes axis",
         "square-o",
         "zoom"
        ],
        [
         "Download",
         "Download plot",
         "floppy-o",
         "save_figure"
        ]
       ]
      }
     },
     "c2d6572282894ac1a176b34745ea233b": {
      "model_module": "@jupyter-widgets/base",
      "model_module_version": "2.0.0",
      "model_name": "LayoutModel",
      "state": {}
     },
     "c3430df275574bf180358dffbc0a3c6e": {
      "model_module": "@jupyter-widgets/base",
      "model_module_version": "2.0.0",
      "model_name": "LayoutModel",
      "state": {}
     },
     "c4a9c1148856449cb02401f2f6f74886": {
      "model_module": "@jupyter-widgets/base",
      "model_module_version": "2.0.0",
      "model_name": "LayoutModel",
      "state": {}
     },
     "c57cf9d2868a465dafd5a2d07d34c33f": {
      "model_module": "@jupyter-widgets/base",
      "model_module_version": "2.0.0",
      "model_name": "LayoutModel",
      "state": {}
     },
     "c662d7ef10024462a93b25d1602a75e8": {
      "model_module": "@jupyter-widgets/base",
      "model_module_version": "2.0.0",
      "model_name": "LayoutModel",
      "state": {}
     },
     "c7c76917f1a247868c6deb8fda7533b9": {
      "model_module": "jupyter-matplotlib",
      "model_module_version": "^0.11",
      "model_name": "ToolbarModel",
      "state": {
       "_model_module_version": "^0.11",
       "_view_module_version": "^0.11",
       "collapsed": true,
       "layout": "IPY_MODEL_8cb0d8f7f08448d9ba4d4a427254b64b",
       "orientation": "vertical",
       "toolitems": [
        [
         "Home",
         "Reset original view",
         "home",
         "home"
        ],
        [
         "Back",
         "Back to previous view",
         "arrow-left",
         "back"
        ],
        [
         "Forward",
         "Forward to next view",
         "arrow-right",
         "forward"
        ],
        [
         "Pan",
         "Left button pans, Right button zooms\nx/y fixes axis, CTRL fixes aspect",
         "arrows",
         "pan"
        ],
        [
         "Zoom",
         "Zoom to rectangle\nx/y fixes axis",
         "square-o",
         "zoom"
        ],
        [
         "Download",
         "Download plot",
         "floppy-o",
         "save_figure"
        ]
       ]
      }
     },
     "cb190933ef414bddb79ea61011864dd1": {
      "model_module": "@jupyter-widgets/base",
      "model_module_version": "2.0.0",
      "model_name": "LayoutModel",
      "state": {}
     },
     "cd7e94007f3f4c26aa9139e527335a40": {
      "model_module": "@jupyter-widgets/base",
      "model_module_version": "2.0.0",
      "model_name": "LayoutModel",
      "state": {}
     },
     "ce16ad6b299543b6b366a211d766f9be": {
      "model_module": "@jupyter-widgets/base",
      "model_module_version": "2.0.0",
      "model_name": "LayoutModel",
      "state": {}
     },
     "ce814d3d728047e98bb08d08b00b842d": {
      "model_module": "jupyter-matplotlib",
      "model_module_version": "^0.11",
      "model_name": "ToolbarModel",
      "state": {
       "_model_module_version": "^0.11",
       "_view_module_version": "^0.11",
       "collapsed": true,
       "layout": "IPY_MODEL_6bebb02e2e6d4520938e764b9ac508c8",
       "orientation": "vertical",
       "toolitems": [
        [
         "Home",
         "Reset original view",
         "home",
         "home"
        ],
        [
         "Back",
         "Back to previous view",
         "arrow-left",
         "back"
        ],
        [
         "Forward",
         "Forward to next view",
         "arrow-right",
         "forward"
        ],
        [
         "Pan",
         "Left button pans, Right button zooms\nx/y fixes axis, CTRL fixes aspect",
         "arrows",
         "pan"
        ],
        [
         "Zoom",
         "Zoom to rectangle\nx/y fixes axis",
         "square-o",
         "zoom"
        ],
        [
         "Download",
         "Download plot",
         "floppy-o",
         "save_figure"
        ]
       ]
      }
     },
     "cef61409fbf5491b9e842d66d338174e": {
      "model_module": "@jupyter-widgets/base",
      "model_module_version": "2.0.0",
      "model_name": "LayoutModel",
      "state": {}
     },
     "d08013810ca4446e828d1765c08ce59f": {
      "model_module": "@jupyter-widgets/base",
      "model_module_version": "2.0.0",
      "model_name": "LayoutModel",
      "state": {}
     },
     "d0febe2cf5ce4c8bb1d403200f83a9ba": {
      "model_module": "jupyter-matplotlib",
      "model_module_version": "^0.11",
      "model_name": "ToolbarModel",
      "state": {
       "_model_module_version": "^0.11",
       "_view_module_version": "^0.11",
       "collapsed": true,
       "layout": "IPY_MODEL_8975b7d908a247c1bfdc0be60572fc63",
       "orientation": "vertical",
       "toolitems": [
        [
         "Home",
         "Reset original view",
         "home",
         "home"
        ],
        [
         "Back",
         "Back to previous view",
         "arrow-left",
         "back"
        ],
        [
         "Forward",
         "Forward to next view",
         "arrow-right",
         "forward"
        ],
        [
         "Pan",
         "Left button pans, Right button zooms\nx/y fixes axis, CTRL fixes aspect",
         "arrows",
         "pan"
        ],
        [
         "Zoom",
         "Zoom to rectangle\nx/y fixes axis",
         "square-o",
         "zoom"
        ],
        [
         "Download",
         "Download plot",
         "floppy-o",
         "save_figure"
        ]
       ]
      }
     },
     "d10ea80a90864462bdf5a3a6493b7a14": {
      "model_module": "jupyter-matplotlib",
      "model_module_version": "^0.11",
      "model_name": "ToolbarModel",
      "state": {
       "_model_module_version": "^0.11",
       "_view_module_version": "^0.11",
       "collapsed": true,
       "layout": "IPY_MODEL_4acb56adbfbc46379861fd54c3898ef6",
       "orientation": "vertical",
       "toolitems": [
        [
         "Home",
         "Reset original view",
         "home",
         "home"
        ],
        [
         "Back",
         "Back to previous view",
         "arrow-left",
         "back"
        ],
        [
         "Forward",
         "Forward to next view",
         "arrow-right",
         "forward"
        ],
        [
         "Pan",
         "Left button pans, Right button zooms\nx/y fixes axis, CTRL fixes aspect",
         "arrows",
         "pan"
        ],
        [
         "Zoom",
         "Zoom to rectangle\nx/y fixes axis",
         "square-o",
         "zoom"
        ],
        [
         "Download",
         "Download plot",
         "floppy-o",
         "save_figure"
        ]
       ]
      }
     },
     "d23e11ff8276408c89f7c166dfb83894": {
      "model_module": "@jupyter-widgets/base",
      "model_module_version": "2.0.0",
      "model_name": "LayoutModel",
      "state": {}
     },
     "d277d62906604a22984c693bf8058ad5": {
      "model_module": "@jupyter-widgets/base",
      "model_module_version": "2.0.0",
      "model_name": "LayoutModel",
      "state": {}
     },
     "d2d40b0581dc40efb827367d9c158c2a": {
      "model_module": "@jupyter-widgets/base",
      "model_module_version": "2.0.0",
      "model_name": "LayoutModel",
      "state": {}
     },
     "d3171e0caf6645319641150c43fc8205": {
      "model_module": "jupyter-matplotlib",
      "model_module_version": "^0.11",
      "model_name": "ToolbarModel",
      "state": {
       "_model_module_version": "^0.11",
       "_view_module_version": "^0.11",
       "collapsed": true,
       "layout": "IPY_MODEL_2910446e9cb541e5a584eae27d8ebf0c",
       "orientation": "vertical",
       "toolitems": [
        [
         "Home",
         "Reset original view",
         "home",
         "home"
        ],
        [
         "Back",
         "Back to previous view",
         "arrow-left",
         "back"
        ],
        [
         "Forward",
         "Forward to next view",
         "arrow-right",
         "forward"
        ],
        [
         "Pan",
         "Left button pans, Right button zooms\nx/y fixes axis, CTRL fixes aspect",
         "arrows",
         "pan"
        ],
        [
         "Zoom",
         "Zoom to rectangle\nx/y fixes axis",
         "square-o",
         "zoom"
        ],
        [
         "Download",
         "Download plot",
         "floppy-o",
         "save_figure"
        ]
       ]
      }
     },
     "d366a58065074442b75479bde3e84ea2": {
      "model_module": "@jupyter-widgets/base",
      "model_module_version": "2.0.0",
      "model_name": "LayoutModel",
      "state": {}
     },
     "d5f52052edef49d5a503812c694fae77": {
      "model_module": "@jupyter-widgets/base",
      "model_module_version": "2.0.0",
      "model_name": "LayoutModel",
      "state": {}
     },
     "d705e76bdf6f4bcd96fb061ecb9c9206": {
      "model_module": "@jupyter-widgets/base",
      "model_module_version": "2.0.0",
      "model_name": "LayoutModel",
      "state": {}
     },
     "d7fbbef5bd1c49c7b69a51e9b4919ae0": {
      "model_module": "@jupyter-widgets/base",
      "model_module_version": "2.0.0",
      "model_name": "LayoutModel",
      "state": {}
     },
     "d859b1b0d8bd41f88a1956aa03c33bac": {
      "model_module": "@jupyter-widgets/base",
      "model_module_version": "2.0.0",
      "model_name": "LayoutModel",
      "state": {}
     },
     "d8a97f2d72d040c6be8aa3827b9fd906": {
      "model_module": "@jupyter-widgets/base",
      "model_module_version": "2.0.0",
      "model_name": "LayoutModel",
      "state": {}
     },
     "da648b10a1614a6c8e317bf043f4a038": {
      "model_module": "jupyter-matplotlib",
      "model_module_version": "^0.11",
      "model_name": "ToolbarModel",
      "state": {
       "_model_module_version": "^0.11",
       "_view_module_version": "^0.11",
       "collapsed": true,
       "layout": "IPY_MODEL_a3eb48d02cdb4fa2b408053f6b8ff609",
       "orientation": "vertical",
       "toolitems": [
        [
         "Home",
         "Reset original view",
         "home",
         "home"
        ],
        [
         "Back",
         "Back to previous view",
         "arrow-left",
         "back"
        ],
        [
         "Forward",
         "Forward to next view",
         "arrow-right",
         "forward"
        ],
        [
         "Pan",
         "Left button pans, Right button zooms\nx/y fixes axis, CTRL fixes aspect",
         "arrows",
         "pan"
        ],
        [
         "Zoom",
         "Zoom to rectangle\nx/y fixes axis",
         "square-o",
         "zoom"
        ],
        [
         "Download",
         "Download plot",
         "floppy-o",
         "save_figure"
        ]
       ]
      }
     },
     "dcd0c606ff404b64b6a5054d51891d3d": {
      "model_module": "@jupyter-widgets/base",
      "model_module_version": "2.0.0",
      "model_name": "LayoutModel",
      "state": {}
     },
     "def1a5452c184d1082459cb7be006ae2": {
      "model_module": "@jupyter-widgets/base",
      "model_module_version": "2.0.0",
      "model_name": "LayoutModel",
      "state": {}
     },
     "e12eca8e4390488b864e6e2b2b2831e2": {
      "model_module": "@jupyter-widgets/base",
      "model_module_version": "2.0.0",
      "model_name": "LayoutModel",
      "state": {}
     },
     "e3854deae59b47fc9ed3b200946bc113": {
      "model_module": "@jupyter-widgets/base",
      "model_module_version": "2.0.0",
      "model_name": "LayoutModel",
      "state": {}
     },
     "e3b0e75ba7c84d578bcef3a721a552fb": {
      "model_module": "jupyter-matplotlib",
      "model_module_version": "^0.11",
      "model_name": "ToolbarModel",
      "state": {
       "_model_module_version": "^0.11",
       "_view_module_version": "^0.11",
       "collapsed": true,
       "layout": "IPY_MODEL_195a7c33ca98446a960352d141be9b66",
       "orientation": "vertical",
       "toolitems": [
        [
         "Home",
         "Reset original view",
         "home",
         "home"
        ],
        [
         "Back",
         "Back to previous view",
         "arrow-left",
         "back"
        ],
        [
         "Forward",
         "Forward to next view",
         "arrow-right",
         "forward"
        ],
        [
         "Pan",
         "Left button pans, Right button zooms\nx/y fixes axis, CTRL fixes aspect",
         "arrows",
         "pan"
        ],
        [
         "Zoom",
         "Zoom to rectangle\nx/y fixes axis",
         "square-o",
         "zoom"
        ],
        [
         "Download",
         "Download plot",
         "floppy-o",
         "save_figure"
        ]
       ]
      }
     },
     "e59871f8dfd34567b8031883539b21c0": {
      "model_module": "jupyter-matplotlib",
      "model_module_version": "^0.11",
      "model_name": "ToolbarModel",
      "state": {
       "_model_module_version": "^0.11",
       "_view_module_version": "^0.11",
       "collapsed": true,
       "layout": "IPY_MODEL_4c4bfae76eee4e56a7b47f208e7b3949",
       "orientation": "vertical",
       "toolitems": [
        [
         "Home",
         "Reset original view",
         "home",
         "home"
        ],
        [
         "Back",
         "Back to previous view",
         "arrow-left",
         "back"
        ],
        [
         "Forward",
         "Forward to next view",
         "arrow-right",
         "forward"
        ],
        [
         "Pan",
         "Left button pans, Right button zooms\nx/y fixes axis, CTRL fixes aspect",
         "arrows",
         "pan"
        ],
        [
         "Zoom",
         "Zoom to rectangle\nx/y fixes axis",
         "square-o",
         "zoom"
        ],
        [
         "Download",
         "Download plot",
         "floppy-o",
         "save_figure"
        ]
       ]
      }
     },
     "e601b8d87c29414b8a2f6df5cbde1082": {
      "model_module": "@jupyter-widgets/base",
      "model_module_version": "2.0.0",
      "model_name": "LayoutModel",
      "state": {}
     },
     "e8a49c65be054c56ac6f4612b30dcbbe": {
      "model_module": "jupyter-matplotlib",
      "model_module_version": "^0.11",
      "model_name": "ToolbarModel",
      "state": {
       "_model_module_version": "^0.11",
       "_view_module_version": "^0.11",
       "collapsed": true,
       "layout": "IPY_MODEL_83c3a3b5234f453a8e5a854d2065a0b9",
       "orientation": "vertical",
       "toolitems": [
        [
         "Home",
         "Reset original view",
         "home",
         "home"
        ],
        [
         "Back",
         "Back to previous view",
         "arrow-left",
         "back"
        ],
        [
         "Forward",
         "Forward to next view",
         "arrow-right",
         "forward"
        ],
        [
         "Pan",
         "Left button pans, Right button zooms\nx/y fixes axis, CTRL fixes aspect",
         "arrows",
         "pan"
        ],
        [
         "Zoom",
         "Zoom to rectangle\nx/y fixes axis",
         "square-o",
         "zoom"
        ],
        [
         "Download",
         "Download plot",
         "floppy-o",
         "save_figure"
        ]
       ]
      }
     },
     "e9cbdc9ec86a412fa289d3846723fef6": {
      "model_module": "jupyter-matplotlib",
      "model_module_version": "^0.11",
      "model_name": "ToolbarModel",
      "state": {
       "_model_module_version": "^0.11",
       "_view_module_version": "^0.11",
       "collapsed": true,
       "layout": "IPY_MODEL_062752cafb3543548b50b49dddca9ce6",
       "orientation": "vertical",
       "toolitems": [
        [
         "Home",
         "Reset original view",
         "home",
         "home"
        ],
        [
         "Back",
         "Back to previous view",
         "arrow-left",
         "back"
        ],
        [
         "Forward",
         "Forward to next view",
         "arrow-right",
         "forward"
        ],
        [
         "Pan",
         "Left button pans, Right button zooms\nx/y fixes axis, CTRL fixes aspect",
         "arrows",
         "pan"
        ],
        [
         "Zoom",
         "Zoom to rectangle\nx/y fixes axis",
         "square-o",
         "zoom"
        ],
        [
         "Download",
         "Download plot",
         "floppy-o",
         "save_figure"
        ]
       ]
      }
     },
     "ea3f0f74354f43d18c00b8564b47d1cb": {
      "model_module": "@jupyter-widgets/base",
      "model_module_version": "2.0.0",
      "model_name": "LayoutModel",
      "state": {}
     },
     "ea9b4e0d64af4aba867d3029008db77b": {
      "model_module": "@jupyter-widgets/base",
      "model_module_version": "2.0.0",
      "model_name": "LayoutModel",
      "state": {}
     },
     "ee22c85059234f7b86b0d21dfcd31b57": {
      "model_module": "jupyter-matplotlib",
      "model_module_version": "^0.11",
      "model_name": "ToolbarModel",
      "state": {
       "_model_module_version": "^0.11",
       "_view_module_version": "^0.11",
       "collapsed": true,
       "layout": "IPY_MODEL_aeeb6271ee174d81bb05b62afde28eb9",
       "orientation": "vertical",
       "toolitems": [
        [
         "Home",
         "Reset original view",
         "home",
         "home"
        ],
        [
         "Back",
         "Back to previous view",
         "arrow-left",
         "back"
        ],
        [
         "Forward",
         "Forward to next view",
         "arrow-right",
         "forward"
        ],
        [
         "Pan",
         "Left button pans, Right button zooms\nx/y fixes axis, CTRL fixes aspect",
         "arrows",
         "pan"
        ],
        [
         "Zoom",
         "Zoom to rectangle\nx/y fixes axis",
         "square-o",
         "zoom"
        ],
        [
         "Download",
         "Download plot",
         "floppy-o",
         "save_figure"
        ]
       ]
      }
     },
     "ee8f5fb4472d4255bcb033beb4282a7f": {
      "model_module": "jupyter-matplotlib",
      "model_module_version": "^0.11",
      "model_name": "ToolbarModel",
      "state": {
       "_model_module_version": "^0.11",
       "_view_module_version": "^0.11",
       "collapsed": true,
       "layout": "IPY_MODEL_d277d62906604a22984c693bf8058ad5",
       "orientation": "vertical",
       "toolitems": [
        [
         "Home",
         "Reset original view",
         "home",
         "home"
        ],
        [
         "Back",
         "Back to previous view",
         "arrow-left",
         "back"
        ],
        [
         "Forward",
         "Forward to next view",
         "arrow-right",
         "forward"
        ],
        [
         "Pan",
         "Left button pans, Right button zooms\nx/y fixes axis, CTRL fixes aspect",
         "arrows",
         "pan"
        ],
        [
         "Zoom",
         "Zoom to rectangle\nx/y fixes axis",
         "square-o",
         "zoom"
        ],
        [
         "Download",
         "Download plot",
         "floppy-o",
         "save_figure"
        ]
       ]
      }
     },
     "ef979b44054b43deab24078fd2b2df92": {
      "model_module": "jupyter-matplotlib",
      "model_module_version": "^0.11",
      "model_name": "ToolbarModel",
      "state": {
       "_model_module_version": "^0.11",
       "_view_module_version": "^0.11",
       "collapsed": true,
       "layout": "IPY_MODEL_430deac7db884a1bb5c71b9d7806c303",
       "orientation": "vertical",
       "toolitems": [
        [
         "Home",
         "Reset original view",
         "home",
         "home"
        ],
        [
         "Back",
         "Back to previous view",
         "arrow-left",
         "back"
        ],
        [
         "Forward",
         "Forward to next view",
         "arrow-right",
         "forward"
        ],
        [
         "Pan",
         "Left button pans, Right button zooms\nx/y fixes axis, CTRL fixes aspect",
         "arrows",
         "pan"
        ],
        [
         "Zoom",
         "Zoom to rectangle\nx/y fixes axis",
         "square-o",
         "zoom"
        ],
        [
         "Download",
         "Download plot",
         "floppy-o",
         "save_figure"
        ]
       ]
      }
     },
     "ef9e89505fdb49a0b1d899cba9b03ee0": {
      "model_module": "@jupyter-widgets/base",
      "model_module_version": "2.0.0",
      "model_name": "LayoutModel",
      "state": {}
     },
     "f099e63956c2452ea08e4e566df6ae7e": {
      "model_module": "jupyter-matplotlib",
      "model_module_version": "^0.11",
      "model_name": "ToolbarModel",
      "state": {
       "_model_module_version": "^0.11",
       "_view_module_version": "^0.11",
       "collapsed": true,
       "layout": "IPY_MODEL_f98596b9bf6d49bba5a6c520fe9c2da7",
       "orientation": "vertical",
       "toolitems": [
        [
         "Home",
         "Reset original view",
         "home",
         "home"
        ],
        [
         "Back",
         "Back to previous view",
         "arrow-left",
         "back"
        ],
        [
         "Forward",
         "Forward to next view",
         "arrow-right",
         "forward"
        ],
        [
         "Pan",
         "Left button pans, Right button zooms\nx/y fixes axis, CTRL fixes aspect",
         "arrows",
         "pan"
        ],
        [
         "Zoom",
         "Zoom to rectangle\nx/y fixes axis",
         "square-o",
         "zoom"
        ],
        [
         "Download",
         "Download plot",
         "floppy-o",
         "save_figure"
        ]
       ]
      }
     },
     "f1ff65c0b8d54f73b105207fe43cd595": {
      "model_module": "@jupyter-widgets/base",
      "model_module_version": "2.0.0",
      "model_name": "LayoutModel",
      "state": {}
     },
     "f27b08bc2b37451392c83d515f9f9765": {
      "model_module": "@jupyter-widgets/base",
      "model_module_version": "2.0.0",
      "model_name": "LayoutModel",
      "state": {}
     },
     "f448bebf748c4e31b664f64222a72efe": {
      "model_module": "jupyter-matplotlib",
      "model_module_version": "^0.11",
      "model_name": "ToolbarModel",
      "state": {
       "_model_module_version": "^0.11",
       "_view_module_version": "^0.11",
       "collapsed": true,
       "layout": "IPY_MODEL_2d8013c1e0bb495db6098209cfd4ab56",
       "orientation": "vertical",
       "toolitems": [
        [
         "Home",
         "Reset original view",
         "home",
         "home"
        ],
        [
         "Back",
         "Back to previous view",
         "arrow-left",
         "back"
        ],
        [
         "Forward",
         "Forward to next view",
         "arrow-right",
         "forward"
        ],
        [
         "Pan",
         "Left button pans, Right button zooms\nx/y fixes axis, CTRL fixes aspect",
         "arrows",
         "pan"
        ],
        [
         "Zoom",
         "Zoom to rectangle\nx/y fixes axis",
         "square-o",
         "zoom"
        ],
        [
         "Download",
         "Download plot",
         "floppy-o",
         "save_figure"
        ]
       ]
      }
     },
     "f4fd5e2846cb41778592520c15a18932": {
      "model_module": "jupyter-matplotlib",
      "model_module_version": "^0.11",
      "model_name": "ToolbarModel",
      "state": {
       "_model_module_version": "^0.11",
       "_view_module_version": "^0.11",
       "collapsed": true,
       "layout": "IPY_MODEL_c57cf9d2868a465dafd5a2d07d34c33f",
       "orientation": "vertical",
       "toolitems": [
        [
         "Home",
         "Reset original view",
         "home",
         "home"
        ],
        [
         "Back",
         "Back to previous view",
         "arrow-left",
         "back"
        ],
        [
         "Forward",
         "Forward to next view",
         "arrow-right",
         "forward"
        ],
        [
         "Pan",
         "Left button pans, Right button zooms\nx/y fixes axis, CTRL fixes aspect",
         "arrows",
         "pan"
        ],
        [
         "Zoom",
         "Zoom to rectangle\nx/y fixes axis",
         "square-o",
         "zoom"
        ],
        [
         "Download",
         "Download plot",
         "floppy-o",
         "save_figure"
        ]
       ]
      }
     },
     "f57a819061c2462c94f73d191bc0d94c": {
      "model_module": "@jupyter-widgets/base",
      "model_module_version": "2.0.0",
      "model_name": "LayoutModel",
      "state": {}
     },
     "f65624ea92c04236ad9c40152a2cf521": {
      "model_module": "jupyter-matplotlib",
      "model_module_version": "^0.11",
      "model_name": "ToolbarModel",
      "state": {
       "_model_module_version": "^0.11",
       "_view_module_version": "^0.11",
       "collapsed": true,
       "layout": "IPY_MODEL_21b3db21d12247c0a05f0e1808a04d29",
       "orientation": "vertical",
       "toolitems": [
        [
         "Home",
         "Reset original view",
         "home",
         "home"
        ],
        [
         "Back",
         "Back to previous view",
         "arrow-left",
         "back"
        ],
        [
         "Forward",
         "Forward to next view",
         "arrow-right",
         "forward"
        ],
        [
         "Pan",
         "Left button pans, Right button zooms\nx/y fixes axis, CTRL fixes aspect",
         "arrows",
         "pan"
        ],
        [
         "Zoom",
         "Zoom to rectangle\nx/y fixes axis",
         "square-o",
         "zoom"
        ],
        [
         "Download",
         "Download plot",
         "floppy-o",
         "save_figure"
        ]
       ]
      }
     },
     "f6f34a6c18e64ae48089170132478a9a": {
      "model_module": "@jupyter-widgets/base",
      "model_module_version": "2.0.0",
      "model_name": "LayoutModel",
      "state": {}
     },
     "f7967eaaedc74e5c90ae39498bad972f": {
      "model_module": "@jupyter-widgets/base",
      "model_module_version": "2.0.0",
      "model_name": "LayoutModel",
      "state": {}
     },
     "f88efb8cd67544e8a100d47d8084f66d": {
      "model_module": "@jupyter-widgets/base",
      "model_module_version": "2.0.0",
      "model_name": "LayoutModel",
      "state": {}
     },
     "f921ed8b98ce4f859b21b3ecf481f040": {
      "model_module": "jupyter-matplotlib",
      "model_module_version": "^0.11",
      "model_name": "ToolbarModel",
      "state": {
       "_model_module_version": "^0.11",
       "_view_module_version": "^0.11",
       "collapsed": true,
       "layout": "IPY_MODEL_ea9b4e0d64af4aba867d3029008db77b",
       "orientation": "vertical",
       "toolitems": [
        [
         "Home",
         "Reset original view",
         "home",
         "home"
        ],
        [
         "Back",
         "Back to previous view",
         "arrow-left",
         "back"
        ],
        [
         "Forward",
         "Forward to next view",
         "arrow-right",
         "forward"
        ],
        [
         "Pan",
         "Left button pans, Right button zooms\nx/y fixes axis, CTRL fixes aspect",
         "arrows",
         "pan"
        ],
        [
         "Zoom",
         "Zoom to rectangle\nx/y fixes axis",
         "square-o",
         "zoom"
        ],
        [
         "Download",
         "Download plot",
         "floppy-o",
         "save_figure"
        ]
       ]
      }
     },
     "f98596b9bf6d49bba5a6c520fe9c2da7": {
      "model_module": "@jupyter-widgets/base",
      "model_module_version": "2.0.0",
      "model_name": "LayoutModel",
      "state": {}
     },
     "fac7c9bc290546eb8e5e4ab27e6b8a4f": {
      "model_module": "jupyter-matplotlib",
      "model_module_version": "^0.11",
      "model_name": "ToolbarModel",
      "state": {
       "_model_module_version": "^0.11",
       "_view_module_version": "^0.11",
       "collapsed": true,
       "layout": "IPY_MODEL_bd5fe801d6eb46b5a51a6717ea872f16",
       "orientation": "vertical",
       "toolitems": [
        [
         "Home",
         "Reset original view",
         "home",
         "home"
        ],
        [
         "Back",
         "Back to previous view",
         "arrow-left",
         "back"
        ],
        [
         "Forward",
         "Forward to next view",
         "arrow-right",
         "forward"
        ],
        [
         "Pan",
         "Left button pans, Right button zooms\nx/y fixes axis, CTRL fixes aspect",
         "arrows",
         "pan"
        ],
        [
         "Zoom",
         "Zoom to rectangle\nx/y fixes axis",
         "square-o",
         "zoom"
        ],
        [
         "Download",
         "Download plot",
         "floppy-o",
         "save_figure"
        ]
       ]
      }
     },
     "fb0098e885284afcad1f9f619b3e8135": {
      "model_module": "jupyter-matplotlib",
      "model_module_version": "^0.11",
      "model_name": "ToolbarModel",
      "state": {
       "_model_module_version": "^0.11",
       "_view_module_version": "^0.11",
       "collapsed": true,
       "layout": "IPY_MODEL_3c91149650534e03a03332874080f030",
       "orientation": "vertical",
       "toolitems": [
        [
         "Home",
         "Reset original view",
         "home",
         "home"
        ],
        [
         "Back",
         "Back to previous view",
         "arrow-left",
         "back"
        ],
        [
         "Forward",
         "Forward to next view",
         "arrow-right",
         "forward"
        ],
        [
         "Pan",
         "Left button pans, Right button zooms\nx/y fixes axis, CTRL fixes aspect",
         "arrows",
         "pan"
        ],
        [
         "Zoom",
         "Zoom to rectangle\nx/y fixes axis",
         "square-o",
         "zoom"
        ],
        [
         "Download",
         "Download plot",
         "floppy-o",
         "save_figure"
        ]
       ]
      }
     },
     "fb23dfa43a1c47f189b29228895086d6": {
      "model_module": "@jupyter-widgets/base",
      "model_module_version": "2.0.0",
      "model_name": "LayoutModel",
      "state": {}
     },
     "fb82d31eccf748cda9b901f7a9e6f3d6": {
      "model_module": "@jupyter-widgets/base",
      "model_module_version": "2.0.0",
      "model_name": "LayoutModel",
      "state": {}
     },
     "fbecb74ea52f4751a6bad47757a7adeb": {
      "model_module": "@jupyter-widgets/base",
      "model_module_version": "2.0.0",
      "model_name": "LayoutModel",
      "state": {}
     },
     "fd06dfd12a8741128544c955e5397cdb": {
      "model_module": "@jupyter-widgets/base",
      "model_module_version": "2.0.0",
      "model_name": "LayoutModel",
      "state": {}
     },
     "fe327a619e064f7a8fceb52cf0e6b965": {
      "model_module": "@jupyter-widgets/base",
      "model_module_version": "2.0.0",
      "model_name": "LayoutModel",
      "state": {}
     },
     "ff2ab344daf94bfaa48ff8bfa2e665cd": {
      "model_module": "jupyter-matplotlib",
      "model_module_version": "^0.11",
      "model_name": "ToolbarModel",
      "state": {
       "_model_module_version": "^0.11",
       "_view_module_version": "^0.11",
       "collapsed": true,
       "layout": "IPY_MODEL_3df038216ec944aba351e19fdcd8e352",
       "orientation": "vertical",
       "toolitems": [
        [
         "Home",
         "Reset original view",
         "home",
         "home"
        ],
        [
         "Back",
         "Back to previous view",
         "arrow-left",
         "back"
        ],
        [
         "Forward",
         "Forward to next view",
         "arrow-right",
         "forward"
        ],
        [
         "Pan",
         "Left button pans, Right button zooms\nx/y fixes axis, CTRL fixes aspect",
         "arrows",
         "pan"
        ],
        [
         "Zoom",
         "Zoom to rectangle\nx/y fixes axis",
         "square-o",
         "zoom"
        ],
        [
         "Download",
         "Download plot",
         "floppy-o",
         "save_figure"
        ]
       ]
      }
     }
    },
    "version_major": 2,
    "version_minor": 0
   }
  }
 },
 "nbformat": 4,
 "nbformat_minor": 5
}
