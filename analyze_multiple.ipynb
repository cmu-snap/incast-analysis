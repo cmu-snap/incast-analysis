{
 "cells": [
  {
   "cell_type": "code",
   "execution_count": null,
   "id": "c77eb3ae-a3a4-488b-8ea3-a33e85a359e1",
   "metadata": {
    "tags": []
   },
   "outputs": [],
   "source": [
    "import analysis\n",
    "\n",
    "exps = {\n",
    "    \"no delacks\": \"/data_hdd/incast/out/15ms-200-3-TcpDctcp-10icwnd-0offset-none-rwnd1000000B-20tokens-4g-80ecn-1_0da\",\n",
    "    \"delacks\": \"/data_hdd/incast/out/15ms-200-3-TcpDctcp-10icwnd-0offset-none-rwnd1000000B-20tokens-4g-80ecn-2_2da\",\n",
    "}"
   ]
  },
  {
   "cell_type": "code",
   "execution_count": null,
   "id": "95927fc5-4c53-48b9-92bc-7ef665635511",
   "metadata": {},
   "outputs": [],
   "source": [
    "print(test)"
   ]
  }
 ],
 "metadata": {
  "jupytext": {
   "formats": "ipynb,auto:percent"
  },
  "kernelspec": {
   "display_name": "incast-analysis-venv",
   "language": "python",
   "name": "incast-analysis-venv"
  },
  "language_info": {
   "codemirror_mode": {
    "name": "ipython",
    "version": 3
   },
   "file_extension": ".py",
   "mimetype": "text/x-python",
   "name": "python",
   "nbconvert_exporter": "python",
   "pygments_lexer": "ipython3",
   "version": "3.10.6"
  },
  "widgets": {
   "application/vnd.jupyter.widget-state+json": {
    "state": {},
    "version_major": 2,
    "version_minor": 0
   }
  }
 },
 "nbformat": 4,
 "nbformat_minor": 5
}
